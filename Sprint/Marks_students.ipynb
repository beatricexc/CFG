{
 "cells": [
  {
   "cell_type": "code",
   "execution_count": 287,
   "id": "8a941c66",
   "metadata": {},
   "outputs": [
    {
     "name": "stdout",
     "output_type": "stream",
     "text": [
      "Hi, lovely\n"
     ]
    }
   ],
   "source": [
    "print(\"Hi, lovely\")"
   ]
  },
  {
   "cell_type": "markdown",
   "id": "c416e862",
   "metadata": {},
   "source": [
    "$a = b+c$"
   ]
  },
  {
   "cell_type": "code",
   "execution_count": 22,
   "id": "20d84127",
   "metadata": {},
   "outputs": [],
   "source": [
    "def check_if_not_numeric(*args):\n",
    "    for x in args:\n",
    "        if not (isinstance(x,(int,float))):\n",
    "            return False\n",
    "    return True\n",
    "\n",
    "def add_all_numeric(*args):\n",
    "    sum = 0\n",
    "    for x in args:\n",
    "        sum += x\n",
    "    return sum"
   ]
  },
  {
   "cell_type": "code",
   "execution_count": 23,
   "id": "de7bbf6c",
   "metadata": {
    "scrolled": true
   },
   "outputs": [
    {
     "data": {
      "text/plain": [
       "True"
      ]
     },
     "execution_count": 23,
     "metadata": {},
     "output_type": "execute_result"
    }
   ],
   "source": [
    "check_if_not_numeric(33,332.1)"
   ]
  },
  {
   "cell_type": "code",
   "execution_count": 24,
   "id": "63274bb3",
   "metadata": {},
   "outputs": [
    {
     "data": {
      "text/plain": [
       "6998.3"
      ]
     },
     "execution_count": 24,
     "metadata": {},
     "output_type": "execute_result"
    }
   ],
   "source": [
    "add_all_numeric(333.3, 3332, 3333)"
   ]
  },
  {
   "cell_type": "markdown",
   "id": "645252f1",
   "metadata": {},
   "source": [
    "\"\"\"\n",
    "Given a list of numbers i.e. [1, 2, 4, -5, 7, 9, 3, 2] make another list\n",
    "that contains all the items in sorted order from min to max i.e your result\n",
    "will be another list like [-5, 1, 2 , 2, 3, 7,9]\n",
    "\n",
    "\"\"\""
   ]
  },
  {
   "cell_type": "code",
   "execution_count": 26,
   "id": "340cfc5d",
   "metadata": {},
   "outputs": [],
   "source": [
    "def findMin(L):\n",
    "    m = L[0]\n",
    "    idx = 0\n",
    "    i = 0\n",
    "    for x in L:\n",
    "        if x < m:\n",
    "            m = x\n",
    "            idx = i\n",
    "        else:\n",
    "            pass\n",
    "        i += 1\n",
    "    return m, idx\n",
    "    "
   ]
  },
  {
   "cell_type": "code",
   "execution_count": 29,
   "id": "f0a948f7",
   "metadata": {},
   "outputs": [
    {
     "name": "stdout",
     "output_type": "stream",
     "text": [
      "0 3\n"
     ]
    }
   ],
   "source": [
    "a,b = findMin([2,3,4,0,9])\n",
    "print(a,b)"
   ]
  },
  {
   "cell_type": "code",
   "execution_count": 31,
   "id": "adfd8466",
   "metadata": {},
   "outputs": [
    {
     "data": {
      "text/plain": [
       "'  abc defg ;; safgga qf   '"
      ]
     },
     "execution_count": 31,
     "metadata": {},
     "output_type": "execute_result"
    }
   ],
   "source": [
    "a = \"  ABC deFg ;; safgga QF   \"\n",
    "b = a.lower()\n",
    "b"
   ]
  },
  {
   "cell_type": "code",
   "execution_count": 32,
   "id": "d5fda67c",
   "metadata": {},
   "outputs": [
    {
     "data": {
      "text/plain": [
       "'abc defg ;; safgga qf'"
      ]
     },
     "execution_count": 32,
     "metadata": {},
     "output_type": "execute_result"
    }
   ],
   "source": [
    "b.strip()"
   ]
  },
  {
   "cell_type": "code",
   "execution_count": 33,
   "id": "fa7ee4d5",
   "metadata": {},
   "outputs": [
    {
     "data": {
      "text/plain": [
       "'  abc defg  safgga qf   '"
      ]
     },
     "execution_count": 33,
     "metadata": {},
     "output_type": "execute_result"
    }
   ],
   "source": [
    "b.replace(\";\", \"\")"
   ]
  },
  {
   "cell_type": "code",
   "execution_count": 34,
   "id": "0ab08434",
   "metadata": {},
   "outputs": [
    {
     "data": {
      "text/plain": [
       "['abc', 'def', 'hgyda', 'yy', 'dfdjfdjfjd']"
      ]
     },
     "execution_count": 34,
     "metadata": {},
     "output_type": "execute_result"
    }
   ],
   "source": [
    "a = \"abc;def;hgyda;yy;dfdjfdjfjd\"\n",
    "L = a.split(\";\")\n",
    "L"
   ]
  },
  {
   "cell_type": "code",
   "execution_count": 35,
   "id": "d1b7e908",
   "metadata": {},
   "outputs": [
    {
     "data": {
      "text/plain": [
       "'def'"
      ]
     },
     "execution_count": 35,
     "metadata": {},
     "output_type": "execute_result"
    }
   ],
   "source": [
    "L[1]"
   ]
  },
  {
   "cell_type": "code",
   "execution_count": 36,
   "id": "ffb568d9",
   "metadata": {},
   "outputs": [
    {
     "data": {
      "text/plain": [
       "['abc;def;hgyda;yy;dfdjfdjfjd']"
      ]
     },
     "execution_count": 36,
     "metadata": {},
     "output_type": "execute_result"
    }
   ],
   "source": [
    "a.splitlines()"
   ]
  },
  {
   "cell_type": "code",
   "execution_count": 37,
   "id": "c408c60a",
   "metadata": {},
   "outputs": [],
   "source": [
    "a.capitalize?"
   ]
  },
  {
   "cell_type": "code",
   "execution_count": 38,
   "id": "753557ba",
   "metadata": {},
   "outputs": [
    {
     "data": {
      "text/plain": [
       "'Abgdfdfsbdfsd'"
      ]
     },
     "execution_count": 38,
     "metadata": {},
     "output_type": "execute_result"
    }
   ],
   "source": [
    "\"abGDFDFSbdfsd\".capitalize()"
   ]
  },
  {
   "cell_type": "code",
   "execution_count": 40,
   "id": "191f5df5",
   "metadata": {},
   "outputs": [
    {
     "data": {
      "text/plain": [
       "'abc;def;hgyda;yy;dfdjfdjfjd'"
      ]
     },
     "execution_count": 40,
     "metadata": {},
     "output_type": "execute_result"
    }
   ],
   "source": [
    "a"
   ]
  },
  {
   "cell_type": "code",
   "execution_count": 41,
   "id": "ac56762f",
   "metadata": {},
   "outputs": [
    {
     "data": {
      "text/plain": [
       "True"
      ]
     },
     "execution_count": 41,
     "metadata": {},
     "output_type": "execute_result"
    }
   ],
   "source": [
    "\"abc\" in \"sbjgjskgjsgjklaabc\""
   ]
  },
  {
   "cell_type": "code",
   "execution_count": 42,
   "id": "ceb3885f",
   "metadata": {},
   "outputs": [
    {
     "data": {
      "text/plain": [
       "True"
      ]
     },
     "execution_count": 42,
     "metadata": {},
     "output_type": "execute_result"
    }
   ],
   "source": [
    "\"abc\"==\"abc\""
   ]
  },
  {
   "cell_type": "code",
   "execution_count": 43,
   "id": "1626c9ce",
   "metadata": {},
   "outputs": [
    {
     "data": {
      "text/plain": [
       "True"
      ]
     },
     "execution_count": 43,
     "metadata": {},
     "output_type": "execute_result"
    }
   ],
   "source": [
    "\"abc\" < \"def\""
   ]
  },
  {
   "cell_type": "code",
   "execution_count": 44,
   "id": "676111c9",
   "metadata": {},
   "outputs": [
    {
     "name": "stdout",
     "output_type": "stream",
     "text": [
      "We are learning \"string\" here\n"
     ]
    }
   ],
   "source": [
    "print(\"We are learning \\\"string\\\" here\")"
   ]
  },
  {
   "cell_type": "code",
   "execution_count": 45,
   "id": "1fb8079b",
   "metadata": {},
   "outputs": [
    {
     "name": "stdout",
     "output_type": "stream",
     "text": [
      "We are learning \"string\" here \n"
     ]
    }
   ],
   "source": [
    "print('We are learning \"string\" here ')"
   ]
  },
  {
   "cell_type": "code",
   "execution_count": 47,
   "id": "0028a680",
   "metadata": {},
   "outputs": [
    {
     "name": "stdout",
     "output_type": "stream",
     "text": [
      "c:\\name\\drive\n"
     ]
    }
   ],
   "source": [
    "print(r\"c:\\name\\drive\") # do not escape anything, this is a raw string, hehe"
   ]
  },
  {
   "cell_type": "markdown",
   "id": "a8a2d40c",
   "metadata": {},
   "source": [
    "# Data Structures"
   ]
  },
  {
   "cell_type": "code",
   "execution_count": 49,
   "id": "1aeb4943",
   "metadata": {},
   "outputs": [],
   "source": [
    "L = [1, 3, 4.9, \"name\", 3]\n",
    "T = (1, 3, 4.9, \"name\", 3)\n",
    "S= {1,3,4.9, \"name\", 3}\n",
    "D = {23:\"twothree\", 'B': 43, 'C': 'CCD'}"
   ]
  },
  {
   "cell_type": "code",
   "execution_count": 51,
   "id": "e8a9f814",
   "metadata": {},
   "outputs": [
    {
     "name": "stdout",
     "output_type": "stream",
     "text": [
      "<class 'list'>\n",
      "The type of T is <class 'tuple'>\n",
      "The type of T is <class 'set'>\n",
      "The type of T is <class 'dict'>\n"
     ]
    }
   ],
   "source": [
    "print(type(L))\n",
    "print(\"The type of T is\", type(T))\n",
    "print(\"The type of T is\", type(S))\n",
    "print(\"The type of T is\", type(D))"
   ]
  },
  {
   "cell_type": "code",
   "execution_count": 52,
   "id": "792cb883",
   "metadata": {},
   "outputs": [
    {
     "name": "stdout",
     "output_type": "stream",
     "text": [
      "3\n",
      "3\n",
      "True\n",
      "twothree\n"
     ]
    }
   ],
   "source": [
    "print(L[1])\n",
    "print(T[1])\n",
    "print(3 in S)\n",
    "print(D[23])"
   ]
  },
  {
   "cell_type": "code",
   "execution_count": 53,
   "id": "954c1fbb",
   "metadata": {},
   "outputs": [
    {
     "name": "stdout",
     "output_type": "stream",
     "text": [
      "43\n"
     ]
    }
   ],
   "source": [
    "print(D['B'])"
   ]
  },
  {
   "cell_type": "code",
   "execution_count": 54,
   "id": "5fe9c42f",
   "metadata": {},
   "outputs": [
    {
     "data": {
      "text/plain": [
       "[3, 4.9]"
      ]
     },
     "execution_count": 54,
     "metadata": {},
     "output_type": "execute_result"
    }
   ],
   "source": [
    "L[1:3]"
   ]
  },
  {
   "cell_type": "code",
   "execution_count": 55,
   "id": "5a0bf0c6",
   "metadata": {},
   "outputs": [
    {
     "data": {
      "text/plain": [
       "[3, 'name', 4.9, 3, 1]"
      ]
     },
     "execution_count": 55,
     "metadata": {},
     "output_type": "execute_result"
    }
   ],
   "source": [
    "L[::-1]"
   ]
  },
  {
   "cell_type": "code",
   "execution_count": 56,
   "id": "ed0a232c",
   "metadata": {},
   "outputs": [
    {
     "data": {
      "text/plain": [
       "(1, 3, 4.9)"
      ]
     },
     "execution_count": 56,
     "metadata": {},
     "output_type": "execute_result"
    }
   ],
   "source": [
    "T[:3]"
   ]
  },
  {
   "cell_type": "code",
   "execution_count": 57,
   "id": "691ffe3f",
   "metadata": {},
   "outputs": [
    {
     "data": {
      "text/plain": [
       "(1, 3, 4.9)"
      ]
     },
     "execution_count": 57,
     "metadata": {},
     "output_type": "execute_result"
    }
   ],
   "source": [
    "T[:3]"
   ]
  },
  {
   "cell_type": "code",
   "execution_count": 58,
   "id": "43444973",
   "metadata": {},
   "outputs": [
    {
     "data": {
      "text/plain": [
       "[1, 3, 4.9, 'name', 3]"
      ]
     },
     "execution_count": 58,
     "metadata": {},
     "output_type": "execute_result"
    }
   ],
   "source": [
    "L"
   ]
  },
  {
   "cell_type": "code",
   "execution_count": 59,
   "id": "768e2876",
   "metadata": {},
   "outputs": [],
   "source": [
    "L = L + [\"how\", \"are\", 6,\"you\"]"
   ]
  },
  {
   "cell_type": "code",
   "execution_count": 60,
   "id": "86ab1664",
   "metadata": {},
   "outputs": [
    {
     "data": {
      "text/plain": [
       "[1, 3, 4.9, 'name', 3, 'how', 'are', 6, 'you']"
      ]
     },
     "execution_count": 60,
     "metadata": {},
     "output_type": "execute_result"
    }
   ],
   "source": [
    "L"
   ]
  },
  {
   "cell_type": "code",
   "execution_count": 61,
   "id": "f1dc0e67",
   "metadata": {},
   "outputs": [],
   "source": [
    "L.append(6.7)"
   ]
  },
  {
   "cell_type": "code",
   "execution_count": 62,
   "id": "271a5626",
   "metadata": {},
   "outputs": [
    {
     "data": {
      "text/plain": [
       "[1, 3, 4.9, 'name', 3, 'how', 'are', 6, 'you', 6.7]"
      ]
     },
     "execution_count": 62,
     "metadata": {},
     "output_type": "execute_result"
    }
   ],
   "source": [
    "L"
   ]
  },
  {
   "cell_type": "code",
   "execution_count": 63,
   "id": "90444258",
   "metadata": {},
   "outputs": [],
   "source": [
    "T2 = ('a', 'b', 45)\n",
    "T3 = T + T2"
   ]
  },
  {
   "cell_type": "code",
   "execution_count": 64,
   "id": "87b2fe5e",
   "metadata": {},
   "outputs": [
    {
     "data": {
      "text/plain": [
       "(1, 3, 4.9, 'name', 3, 'a', 'b', 45)"
      ]
     },
     "execution_count": 64,
     "metadata": {},
     "output_type": "execute_result"
    }
   ],
   "source": [
    "T3"
   ]
  },
  {
   "cell_type": "code",
   "execution_count": 65,
   "id": "400449d7",
   "metadata": {},
   "outputs": [],
   "source": [
    "S.add(56)"
   ]
  },
  {
   "cell_type": "code",
   "execution_count": 66,
   "id": "392b73c9",
   "metadata": {},
   "outputs": [
    {
     "data": {
      "text/plain": [
       "{1, 3, 4.9, 56, 'name'}"
      ]
     },
     "execution_count": 66,
     "metadata": {},
     "output_type": "execute_result"
    }
   ],
   "source": [
    "S"
   ]
  },
  {
   "cell_type": "code",
   "execution_count": 67,
   "id": "ac1d6049",
   "metadata": {},
   "outputs": [
    {
     "data": {
      "text/plain": [
       "{23: 'twothree', 'B': 43, 'C': 'CCD'}"
      ]
     },
     "execution_count": 67,
     "metadata": {},
     "output_type": "execute_result"
    }
   ],
   "source": [
    "D"
   ]
  },
  {
   "cell_type": "code",
   "execution_count": 68,
   "id": "43ea474a",
   "metadata": {},
   "outputs": [],
   "source": [
    "S.update({23, \"game\", 4})"
   ]
  },
  {
   "cell_type": "code",
   "execution_count": 69,
   "id": "252cbf40",
   "metadata": {},
   "outputs": [
    {
     "data": {
      "text/plain": [
       "{1, 23, 3, 4, 4.9, 56, 'game', 'name'}"
      ]
     },
     "execution_count": 69,
     "metadata": {},
     "output_type": "execute_result"
    }
   ],
   "source": [
    "S"
   ]
  },
  {
   "cell_type": "code",
   "execution_count": 70,
   "id": "3845f5a6",
   "metadata": {},
   "outputs": [],
   "source": [
    "D['newKEy'] = \"nevalue\""
   ]
  },
  {
   "cell_type": "code",
   "execution_count": 71,
   "id": "b6f27478",
   "metadata": {},
   "outputs": [
    {
     "data": {
      "text/plain": [
       "{23: 'twothree', 'B': 43, 'C': 'CCD', 'newKEy': 'nevalue'}"
      ]
     },
     "execution_count": 71,
     "metadata": {},
     "output_type": "execute_result"
    }
   ],
   "source": [
    "D"
   ]
  },
  {
   "cell_type": "code",
   "execution_count": 72,
   "id": "e5278536",
   "metadata": {},
   "outputs": [],
   "source": [
    "D2 = {\"y\" : \"YY\", \"z\":10}"
   ]
  },
  {
   "cell_type": "code",
   "execution_count": 73,
   "id": "6abcfc8d",
   "metadata": {},
   "outputs": [
    {
     "data": {
      "text/plain": [
       "[1, 3, 4.9, 'name', 3, 'how', 'are', 6, 'you', 6.7]"
      ]
     },
     "execution_count": 73,
     "metadata": {},
     "output_type": "execute_result"
    }
   ],
   "source": [
    "L"
   ]
  },
  {
   "cell_type": "code",
   "execution_count": 74,
   "id": "fb2b6465",
   "metadata": {},
   "outputs": [],
   "source": [
    " del L[3]"
   ]
  },
  {
   "cell_type": "code",
   "execution_count": 75,
   "id": "8fc26a1c",
   "metadata": {},
   "outputs": [
    {
     "data": {
      "text/plain": [
       "[1, 3, 4.9, 3, 'how', 'are', 6, 'you', 6.7]"
      ]
     },
     "execution_count": 75,
     "metadata": {},
     "output_type": "execute_result"
    }
   ],
   "source": [
    "L"
   ]
  },
  {
   "cell_type": "code",
   "execution_count": 76,
   "id": "bdaf0c33",
   "metadata": {},
   "outputs": [
    {
     "data": {
      "text/plain": [
       "{1, 23, 3, 4, 4.9, 56, 'game', 'name'}"
      ]
     },
     "execution_count": 76,
     "metadata": {},
     "output_type": "execute_result"
    }
   ],
   "source": [
    "S"
   ]
  },
  {
   "cell_type": "code",
   "execution_count": 77,
   "id": "680c9093",
   "metadata": {},
   "outputs": [],
   "source": [
    "S.remove('game')"
   ]
  },
  {
   "cell_type": "code",
   "execution_count": 80,
   "id": "8ffa9561",
   "metadata": {},
   "outputs": [
    {
     "data": {
      "text/plain": [
       "{1, 23, 3, 4, 4.9, 56, 'name'}"
      ]
     },
     "execution_count": 80,
     "metadata": {},
     "output_type": "execute_result"
    }
   ],
   "source": [
    "S"
   ]
  },
  {
   "cell_type": "code",
   "execution_count": 81,
   "id": "da7235e7",
   "metadata": {},
   "outputs": [
    {
     "data": {
      "text/plain": [
       "[1, 3, 4.9, 3, 'how', 'are', 6, 'you', 6.7]"
      ]
     },
     "execution_count": 81,
     "metadata": {},
     "output_type": "execute_result"
    }
   ],
   "source": [
    "L"
   ]
  },
  {
   "cell_type": "code",
   "execution_count": 82,
   "id": "f377c041",
   "metadata": {},
   "outputs": [],
   "source": [
    "L2 = L"
   ]
  },
  {
   "cell_type": "code",
   "execution_count": 83,
   "id": "f9f1f53f",
   "metadata": {},
   "outputs": [
    {
     "data": {
      "text/plain": [
       "[1, 3, 4.9, 3, 'how', 'are', 6, 'you', 6.7]"
      ]
     },
     "execution_count": 83,
     "metadata": {},
     "output_type": "execute_result"
    }
   ],
   "source": [
    "L2"
   ]
  },
  {
   "cell_type": "code",
   "execution_count": 84,
   "id": "346dc030",
   "metadata": {},
   "outputs": [],
   "source": [
    "L2[2] = \"four point nine\""
   ]
  },
  {
   "cell_type": "code",
   "execution_count": 85,
   "id": "dff3ec30",
   "metadata": {},
   "outputs": [
    {
     "data": {
      "text/plain": [
       "[1, 3, 'four point nine', 3, 'how', 'are', 6, 'you', 6.7]"
      ]
     },
     "execution_count": 85,
     "metadata": {},
     "output_type": "execute_result"
    }
   ],
   "source": [
    "L2"
   ]
  },
  {
   "cell_type": "code",
   "execution_count": 86,
   "id": "8bafcc1c",
   "metadata": {},
   "outputs": [
    {
     "data": {
      "text/plain": [
       "[1, 3, 'four point nine', 3, 'how', 'are', 6, 'you', 6.7]"
      ]
     },
     "execution_count": 86,
     "metadata": {},
     "output_type": "execute_result"
    }
   ],
   "source": [
    "L"
   ]
  },
  {
   "cell_type": "code",
   "execution_count": 87,
   "id": "294be246",
   "metadata": {},
   "outputs": [],
   "source": [
    "L2 = L.copy()"
   ]
  },
  {
   "cell_type": "code",
   "execution_count": 88,
   "id": "7ee1cf8b",
   "metadata": {},
   "outputs": [],
   "source": [
    "L2[2] = \"curu\""
   ]
  },
  {
   "cell_type": "code",
   "execution_count": 89,
   "id": "855745e2",
   "metadata": {},
   "outputs": [
    {
     "data": {
      "text/plain": [
       "[1, 3, 'curu', 3, 'how', 'are', 6, 'you', 6.7]"
      ]
     },
     "execution_count": 89,
     "metadata": {},
     "output_type": "execute_result"
    }
   ],
   "source": [
    "L2"
   ]
  },
  {
   "cell_type": "code",
   "execution_count": 90,
   "id": "6cd60f08",
   "metadata": {},
   "outputs": [
    {
     "data": {
      "text/plain": [
       "[1, 3, 'four point nine', 3, 'how', 'are', 6, 'you', 6.7]"
      ]
     },
     "execution_count": 90,
     "metadata": {},
     "output_type": "execute_result"
    }
   ],
   "source": [
    "L"
   ]
  },
  {
   "cell_type": "code",
   "execution_count": 91,
   "id": "3739b7cb",
   "metadata": {},
   "outputs": [],
   "source": [
    "L3 = L[1:5]"
   ]
  },
  {
   "cell_type": "code",
   "execution_count": 92,
   "id": "4f9f05d1",
   "metadata": {},
   "outputs": [
    {
     "data": {
      "text/plain": [
       "[3, 'four point nine', 3, 'how']"
      ]
     },
     "execution_count": 92,
     "metadata": {},
     "output_type": "execute_result"
    }
   ],
   "source": [
    "L3"
   ]
  },
  {
   "cell_type": "code",
   "execution_count": 93,
   "id": "41d8aabe",
   "metadata": {},
   "outputs": [],
   "source": [
    "L3[0] = \"three\""
   ]
  },
  {
   "cell_type": "code",
   "execution_count": 94,
   "id": "7bb0169f",
   "metadata": {},
   "outputs": [
    {
     "data": {
      "text/plain": [
       "['three', 'four point nine', 3, 'how']"
      ]
     },
     "execution_count": 94,
     "metadata": {},
     "output_type": "execute_result"
    }
   ],
   "source": [
    "L3"
   ]
  },
  {
   "cell_type": "code",
   "execution_count": 95,
   "id": "0ab31d82",
   "metadata": {},
   "outputs": [
    {
     "data": {
      "text/plain": [
       "[1, 3, 'curu', 3, 'how', 'are', 6, 'you', 6.7]"
      ]
     },
     "execution_count": 95,
     "metadata": {},
     "output_type": "execute_result"
    }
   ],
   "source": [
    "L2"
   ]
  },
  {
   "cell_type": "code",
   "execution_count": 99,
   "id": "81019f45",
   "metadata": {},
   "outputs": [
    {
     "name": "stdout",
     "output_type": "stream",
     "text": [
      "Help on built-in function append:\n",
      "\n",
      "append(object, /) method of builtins.list instance\n",
      "    Append object to the end of the list.\n",
      "\n"
     ]
    }
   ],
   "source": [
    "help(L.append)"
   ]
  },
  {
   "cell_type": "code",
   "execution_count": 101,
   "id": "6f821851",
   "metadata": {},
   "outputs": [],
   "source": [
    "L.clear?"
   ]
  },
  {
   "cell_type": "code",
   "execution_count": 102,
   "id": "c1824f07",
   "metadata": {},
   "outputs": [],
   "source": [
    "L.pop?"
   ]
  },
  {
   "cell_type": "code",
   "execution_count": 103,
   "id": "0ea8afac",
   "metadata": {},
   "outputs": [],
   "source": [
    "L.reverse()"
   ]
  },
  {
   "cell_type": "code",
   "execution_count": 104,
   "id": "563d935e",
   "metadata": {},
   "outputs": [
    {
     "data": {
      "text/plain": [
       "[6.7, 'you', 6, 'are', 'how', 3, 'four point nine', 3, 1]"
      ]
     },
     "execution_count": 104,
     "metadata": {},
     "output_type": "execute_result"
    }
   ],
   "source": [
    "L"
   ]
  },
  {
   "cell_type": "code",
   "execution_count": 105,
   "id": "b2969cfe",
   "metadata": {},
   "outputs": [],
   "source": [
    "L2.reverse()"
   ]
  },
  {
   "cell_type": "code",
   "execution_count": 106,
   "id": "afbf53df",
   "metadata": {},
   "outputs": [
    {
     "data": {
      "text/plain": [
       "[6.7, 'you', 6, 'are', 'how', 3, 'curu', 3, 1]"
      ]
     },
     "execution_count": 106,
     "metadata": {},
     "output_type": "execute_result"
    }
   ],
   "source": [
    "L2"
   ]
  },
  {
   "cell_type": "code",
   "execution_count": 107,
   "id": "551bc7d2",
   "metadata": {},
   "outputs": [],
   "source": [
    "D2 = {'A':L, 'B':T, 'C':S, 'D': D}"
   ]
  },
  {
   "cell_type": "code",
   "execution_count": 108,
   "id": "0399aa7f",
   "metadata": {},
   "outputs": [
    {
     "data": {
      "text/plain": [
       "{'A': [6.7, 'you', 6, 'are', 'how', 3, 'four point nine', 3, 1],\n",
       " 'B': (1, 3, 4.9, 'name', 3),\n",
       " 'C': {1, 23, 3, 4, 4.9, 56, 'name'},\n",
       " 'D': {23: 'twothree', 'B': 43, 'C': 'CCD', 'newKEy': 'nevalue'}}"
      ]
     },
     "execution_count": 108,
     "metadata": {},
     "output_type": "execute_result"
    }
   ],
   "source": [
    "D2"
   ]
  },
  {
   "cell_type": "code",
   "execution_count": 109,
   "id": "d1f62a1b",
   "metadata": {},
   "outputs": [
    {
     "data": {
      "text/plain": [
       "[6.7, 'you', 6, 'are', 'how', 3, 'four point nine', 3, 1]"
      ]
     },
     "execution_count": 109,
     "metadata": {},
     "output_type": "execute_result"
    }
   ],
   "source": [
    "D2['A']"
   ]
  },
  {
   "cell_type": "code",
   "execution_count": 110,
   "id": "641f1955",
   "metadata": {},
   "outputs": [
    {
     "data": {
      "text/plain": [
       "'are'"
      ]
     },
     "execution_count": 110,
     "metadata": {},
     "output_type": "execute_result"
    }
   ],
   "source": [
    "D2['A'][3]"
   ]
  },
  {
   "cell_type": "code",
   "execution_count": 111,
   "id": "78c67650",
   "metadata": {},
   "outputs": [
    {
     "data": {
      "text/plain": [
       "{23: 'twothree', 'B': 43, 'C': 'CCD', 'newKEy': 'nevalue'}"
      ]
     },
     "execution_count": 111,
     "metadata": {},
     "output_type": "execute_result"
    }
   ],
   "source": [
    "k = D2['D']\n",
    "k"
   ]
  },
  {
   "cell_type": "code",
   "execution_count": 115,
   "id": "562b949b",
   "metadata": {},
   "outputs": [
    {
     "name": "stdout",
     "output_type": "stream",
     "text": [
      "23 twothree\n",
      "B 43\n",
      "C CCD\n",
      "newKEy nevalue\n"
     ]
    }
   ],
   "source": [
    "for x, j in k.items():\n",
    "    print(x,j)"
   ]
  },
  {
   "cell_type": "code",
   "execution_count": 116,
   "id": "09bfa57d",
   "metadata": {},
   "outputs": [],
   "source": [
    "L3 = [L, T, D, 23, \"game\"]"
   ]
  },
  {
   "cell_type": "code",
   "execution_count": 117,
   "id": "12d04596",
   "metadata": {},
   "outputs": [
    {
     "data": {
      "text/plain": [
       "[[6.7, 'you', 6, 'are', 'how', 3, 'four point nine', 3, 1],\n",
       " (1, 3, 4.9, 'name', 3),\n",
       " {23: 'twothree', 'B': 43, 'C': 'CCD', 'newKEy': 'nevalue'},\n",
       " 23,\n",
       " 'game']"
      ]
     },
     "execution_count": 117,
     "metadata": {},
     "output_type": "execute_result"
    }
   ],
   "source": [
    "L3"
   ]
  },
  {
   "cell_type": "code",
   "execution_count": 118,
   "id": "4ff25ce8",
   "metadata": {},
   "outputs": [
    {
     "data": {
      "text/plain": [
       "dict"
      ]
     },
     "execution_count": 118,
     "metadata": {},
     "output_type": "execute_result"
    }
   ],
   "source": [
    "type(L3[2])"
   ]
  },
  {
   "cell_type": "code",
   "execution_count": 119,
   "id": "30f9d422",
   "metadata": {},
   "outputs": [],
   "source": [
    "L3 =[x **2 for x in range(10)]"
   ]
  },
  {
   "cell_type": "code",
   "execution_count": 120,
   "id": "9878f438",
   "metadata": {},
   "outputs": [
    {
     "data": {
      "text/plain": [
       "[0, 1, 4, 9, 16, 25, 36, 49, 64, 81]"
      ]
     },
     "execution_count": 120,
     "metadata": {},
     "output_type": "execute_result"
    }
   ],
   "source": [
    "L3"
   ]
  },
  {
   "cell_type": "code",
   "execution_count": 121,
   "id": "8d972b51",
   "metadata": {},
   "outputs": [],
   "source": [
    "S3 = {x**2 for x in range(2,20,3)}"
   ]
  },
  {
   "cell_type": "code",
   "execution_count": 122,
   "id": "90f587b1",
   "metadata": {},
   "outputs": [
    {
     "data": {
      "text/plain": [
       "{4, 25, 64, 121, 196, 289}"
      ]
     },
     "execution_count": 122,
     "metadata": {},
     "output_type": "execute_result"
    }
   ],
   "source": [
    "S3"
   ]
  },
  {
   "cell_type": "markdown",
   "id": "7db62a28",
   "metadata": {},
   "source": [
    "    \"\"\" You're a teacher and you have different student records\n",
    "    containing id of a student and the marks list in each subject where\n",
    "    different students have taken different number of subjects. All records are in hard copy. You want to enter all the data in the computer and want to compute the average marks of each student and display them \"\"\""
   ]
  },
  {
   "cell_type": "code",
   "execution_count": 143,
   "id": "18a8ab7e",
   "metadata": {},
   "outputs": [],
   "source": [
    "def getDataFromUser():\n",
    "    D = {}\n",
    "    while True:\n",
    "        studentId = input(\"Enter student ID: \")\n",
    "        markList = input(\"Enter the marks by comma separated values: \")\n",
    "        moreStudents = input(\"Enter 'no'to quit insertion\")\n",
    "        if studentId in D:\n",
    "            print(\"Student id\", studentId,\"is already inserted\")\n",
    "        else:\n",
    "            D[studentId] = markList.split(\",\")\n",
    "        if moreStudents.lower() == \"no\":\n",
    "            return D    "
   ]
  },
  {
   "cell_type": "code",
   "execution_count": 144,
   "id": "9ba7b94c",
   "metadata": {},
   "outputs": [
    {
     "name": "stdout",
     "output_type": "stream",
     "text": [
      "Enter student ID: 12\n",
      "Enter the marks by comma separated values: 44,33,77\n",
      "Enter 'no'to quit insertiongg\n",
      "Enter student ID: 34\n",
      "Enter the marks by comma separated values: 66,24,66,44\n",
      "Enter 'no'to quit insertionjj\n",
      "Enter student ID: 12\n",
      "Enter the marks by comma separated values: 66,66,66,34\n",
      "Enter 'no'to quit insertionjk\n",
      "Student id 12 is already inserted\n",
      "Enter student ID: 43\n",
      "Enter the marks by comma separated values: 99,33,56,55,91\n",
      "Enter 'no'to quit insertionno\n"
     ]
    }
   ],
   "source": [
    "studentData = getDataFromUser()"
   ]
  },
  {
   "cell_type": "code",
   "execution_count": 145,
   "id": "d8252bd2",
   "metadata": {},
   "outputs": [
    {
     "data": {
      "text/plain": [
       "{'12': ['44', '33', '77'],\n",
       " '34': ['66', '24', '66', '44'],\n",
       " '43': ['99', '33', '56', '55', '91']}"
      ]
     },
     "execution_count": 145,
     "metadata": {},
     "output_type": "execute_result"
    }
   ],
   "source": [
    "studentData"
   ]
  },
  {
   "cell_type": "code",
   "execution_count": 154,
   "id": "ee48eb84",
   "metadata": {},
   "outputs": [],
   "source": [
    "def getAvgMarks(D):\n",
    "    avgMarks={}\n",
    "    for x in D:\n",
    "        L = D[x]\n",
    "        s = 0\n",
    "        for marks in L:\n",
    "            s += int(marks)\n",
    "        avgMarks[x] = s /len(L)\n",
    "    return avgMarks"
   ]
  },
  {
   "cell_type": "code",
   "execution_count": 155,
   "id": "a3d088e7",
   "metadata": {},
   "outputs": [],
   "source": [
    "avgM=getAvgMarks(studentData)"
   ]
  },
  {
   "cell_type": "code",
   "execution_count": 157,
   "id": "d679f012",
   "metadata": {},
   "outputs": [
    {
     "name": "stdout",
     "output_type": "stream",
     "text": [
      "Student:  12 got avg Marks as: 51.333333333333336\n",
      "Student:  34 got avg Marks as: 50.0\n",
      "Student:  43 got avg Marks as: 66.8\n"
     ]
    }
   ],
   "source": [
    "for x in avgM:\n",
    "    print(\"Student: \", x, \"got avg Marks as:\",avgM[x])"
   ]
  },
  {
   "cell_type": "code",
   "execution_count": 171,
   "id": "582be05d",
   "metadata": {},
   "outputs": [],
   "source": [
    "import numpy as np\n",
    "a = np.array([1, 2, 3, 4, 5], dtype=\"i\")\n",
    "b = np.array((2,3,5), dtype=\"f\")"
   ]
  },
  {
   "cell_type": "code",
   "execution_count": 166,
   "id": "4e834d06",
   "metadata": {},
   "outputs": [
    {
     "data": {
      "text/plain": [
       "array([1, 2, 3, 4, 5], dtype=int32)"
      ]
     },
     "execution_count": 166,
     "metadata": {},
     "output_type": "execute_result"
    }
   ],
   "source": [
    "a"
   ]
  },
  {
   "cell_type": "code",
   "execution_count": 167,
   "id": "3322bbc0",
   "metadata": {},
   "outputs": [
    {
     "data": {
      "text/plain": [
       "numpy.ndarray"
      ]
     },
     "execution_count": 167,
     "metadata": {},
     "output_type": "execute_result"
    }
   ],
   "source": [
    "type(a)"
   ]
  },
  {
   "cell_type": "code",
   "execution_count": 174,
   "id": "290b78fa",
   "metadata": {},
   "outputs": [
    {
     "data": {
      "text/plain": [
       "array([2., 3., 5.], dtype=float32)"
      ]
     },
     "execution_count": 174,
     "metadata": {},
     "output_type": "execute_result"
    }
   ],
   "source": [
    "b"
   ]
  },
  {
   "cell_type": "code",
   "execution_count": 172,
   "id": "c56eb9c3",
   "metadata": {},
   "outputs": [
    {
     "data": {
      "text/plain": [
       "numpy.ndarray"
      ]
     },
     "execution_count": 172,
     "metadata": {},
     "output_type": "execute_result"
    }
   ],
   "source": [
    "type(b)"
   ]
  },
  {
   "cell_type": "code",
   "execution_count": 170,
   "id": "408b2461",
   "metadata": {},
   "outputs": [
    {
     "data": {
      "text/plain": [
       "dtype('int32')"
      ]
     },
     "execution_count": 170,
     "metadata": {},
     "output_type": "execute_result"
    }
   ],
   "source": [
    "a.dtype"
   ]
  },
  {
   "cell_type": "code",
   "execution_count": 173,
   "id": "0d58fb46",
   "metadata": {},
   "outputs": [
    {
     "data": {
      "text/plain": [
       "dtype('float32')"
      ]
     },
     "execution_count": 173,
     "metadata": {},
     "output_type": "execute_result"
    }
   ],
   "source": [
    "b.dtype"
   ]
  },
  {
   "cell_type": "code",
   "execution_count": 175,
   "id": "9730b2ec",
   "metadata": {},
   "outputs": [],
   "source": [
    "a = np.array([[1,2,3],[4,5,6]])"
   ]
  },
  {
   "cell_type": "code",
   "execution_count": 176,
   "id": "ca802e8c",
   "metadata": {},
   "outputs": [
    {
     "data": {
      "text/plain": [
       "2"
      ]
     },
     "execution_count": 176,
     "metadata": {},
     "output_type": "execute_result"
    }
   ],
   "source": [
    "a.ndim"
   ]
  },
  {
   "cell_type": "code",
   "execution_count": 177,
   "id": "0843fd56",
   "metadata": {},
   "outputs": [
    {
     "data": {
      "text/plain": [
       "3"
      ]
     },
     "execution_count": 177,
     "metadata": {},
     "output_type": "execute_result"
    }
   ],
   "source": [
    "a[0][2]"
   ]
  },
  {
   "cell_type": "code",
   "execution_count": 178,
   "id": "8c489568",
   "metadata": {},
   "outputs": [
    {
     "data": {
      "text/plain": [
       "3"
      ]
     },
     "execution_count": 178,
     "metadata": {},
     "output_type": "execute_result"
    }
   ],
   "source": [
    "a[0,2]"
   ]
  },
  {
   "cell_type": "code",
   "execution_count": 188,
   "id": "54e267f9",
   "metadata": {},
   "outputs": [],
   "source": [
    "B= np.array([[1,2,3],[2,4,6]], dtype='i')"
   ]
  },
  {
   "cell_type": "code",
   "execution_count": 189,
   "id": "1340bb1d",
   "metadata": {},
   "outputs": [
    {
     "data": {
      "text/plain": [
       "2"
      ]
     },
     "execution_count": 189,
     "metadata": {},
     "output_type": "execute_result"
    }
   ],
   "source": [
    "B.ndim"
   ]
  },
  {
   "cell_type": "code",
   "execution_count": 193,
   "id": "46353491",
   "metadata": {},
   "outputs": [
    {
     "data": {
      "text/plain": [
       "6"
      ]
     },
     "execution_count": 193,
     "metadata": {},
     "output_type": "execute_result"
    }
   ],
   "source": [
    "B[1,2]"
   ]
  },
  {
   "cell_type": "code",
   "execution_count": 198,
   "id": "6089c29e",
   "metadata": {},
   "outputs": [],
   "source": [
    "c=np.array([[[1,2,3], [4,5,6], [0,0,-1]],[[-1,-2,-3], [-4,-5,-6], [0,0,1]]])"
   ]
  },
  {
   "cell_type": "code",
   "execution_count": 199,
   "id": "cca81caa",
   "metadata": {},
   "outputs": [
    {
     "data": {
      "text/plain": [
       "array([[[ 1,  2,  3],\n",
       "        [ 4,  5,  6],\n",
       "        [ 0,  0, -1]],\n",
       "\n",
       "       [[-1, -2, -3],\n",
       "        [-4, -5, -6],\n",
       "        [ 0,  0,  1]]])"
      ]
     },
     "execution_count": 199,
     "metadata": {},
     "output_type": "execute_result"
    }
   ],
   "source": [
    "c"
   ]
  },
  {
   "cell_type": "code",
   "execution_count": 200,
   "id": "0fa68457",
   "metadata": {},
   "outputs": [
    {
     "data": {
      "text/plain": [
       "3"
      ]
     },
     "execution_count": 200,
     "metadata": {},
     "output_type": "execute_result"
    }
   ],
   "source": [
    "c.ndim"
   ]
  },
  {
   "cell_type": "code",
   "execution_count": 201,
   "id": "0576d189",
   "metadata": {},
   "outputs": [
    {
     "data": {
      "text/plain": [
       "-3"
      ]
     },
     "execution_count": 201,
     "metadata": {},
     "output_type": "execute_result"
    }
   ],
   "source": [
    "c[1,0,2]"
   ]
  },
  {
   "cell_type": "code",
   "execution_count": 202,
   "id": "a54a8158",
   "metadata": {},
   "outputs": [
    {
     "data": {
      "text/plain": [
       "numpy.ndarray"
      ]
     },
     "execution_count": 202,
     "metadata": {},
     "output_type": "execute_result"
    }
   ],
   "source": [
    "type(c)"
   ]
  },
  {
   "cell_type": "code",
   "execution_count": 205,
   "id": "d9aecc19",
   "metadata": {},
   "outputs": [
    {
     "name": "stdout",
     "output_type": "stream",
     "text": [
      "(2, 3, 3)\n"
     ]
    }
   ],
   "source": [
    "print(c.shape) #2 says how many 2 dimensional arrays there are\n",
    "             # the first 3 says that in each 2d array there are 3 1d arrays\n",
    "            # the second 3 says that each 1 d array has 3 elements\n",
    "               "
   ]
  },
  {
   "cell_type": "code",
   "execution_count": 206,
   "id": "79ce3511",
   "metadata": {},
   "outputs": [
    {
     "data": {
      "text/plain": [
       "2"
      ]
     },
     "execution_count": 206,
     "metadata": {},
     "output_type": "execute_result"
    }
   ],
   "source": [
    "c.shape[0] #how many dimenstions"
   ]
  },
  {
   "cell_type": "code",
   "execution_count": 207,
   "id": "29155a42",
   "metadata": {},
   "outputs": [
    {
     "data": {
      "text/plain": [
       "3"
      ]
     },
     "execution_count": 207,
     "metadata": {},
     "output_type": "execute_result"
    }
   ],
   "source": [
    "c.shape[1] #how many arrays in the 2dimensions array"
   ]
  },
  {
   "cell_type": "code",
   "execution_count": 208,
   "id": "bde0282e",
   "metadata": {},
   "outputs": [
    {
     "data": {
      "text/plain": [
       "3"
      ]
     },
     "execution_count": 208,
     "metadata": {},
     "output_type": "execute_result"
    }
   ],
   "source": [
    "c.shape[2] #how many elements in each 1d array "
   ]
  },
  {
   "cell_type": "code",
   "execution_count": 209,
   "id": "43025ac0",
   "metadata": {},
   "outputs": [],
   "source": [
    "A = np.array([2])"
   ]
  },
  {
   "cell_type": "code",
   "execution_count": 210,
   "id": "09c2e1fb",
   "metadata": {},
   "outputs": [
    {
     "data": {
      "text/plain": [
       "1"
      ]
     },
     "execution_count": 210,
     "metadata": {},
     "output_type": "execute_result"
    }
   ],
   "source": [
    "A.ndim"
   ]
  },
  {
   "cell_type": "code",
   "execution_count": 211,
   "id": "ac1e3d9b",
   "metadata": {},
   "outputs": [],
   "source": [
    "B=np.array(3)"
   ]
  },
  {
   "cell_type": "code",
   "execution_count": 212,
   "id": "db022edb",
   "metadata": {},
   "outputs": [
    {
     "data": {
      "text/plain": [
       "0"
      ]
     },
     "execution_count": 212,
     "metadata": {},
     "output_type": "execute_result"
    }
   ],
   "source": [
    "B.ndim"
   ]
  },
  {
   "cell_type": "code",
   "execution_count": 214,
   "id": "4e45770a",
   "metadata": {},
   "outputs": [
    {
     "data": {
      "text/plain": [
       "18"
      ]
     },
     "execution_count": 214,
     "metadata": {},
     "output_type": "execute_result"
    }
   ],
   "source": [
    "c.size # how many elements are inside"
   ]
  },
  {
   "cell_type": "code",
   "execution_count": 215,
   "id": "872d676c",
   "metadata": {},
   "outputs": [
    {
     "data": {
      "text/plain": [
       "72"
      ]
     },
     "execution_count": 215,
     "metadata": {},
     "output_type": "execute_result"
    }
   ],
   "source": [
    "c.nbytes #how many bytes are in the memory"
   ]
  },
  {
   "cell_type": "code",
   "execution_count": 216,
   "id": "98ae6ad3",
   "metadata": {},
   "outputs": [],
   "source": [
    "A=np.arange(100)"
   ]
  },
  {
   "cell_type": "code",
   "execution_count": 217,
   "id": "2fa45001",
   "metadata": {},
   "outputs": [
    {
     "data": {
      "text/plain": [
       "array([ 0,  1,  2,  3,  4,  5,  6,  7,  8,  9, 10, 11, 12, 13, 14, 15, 16,\n",
       "       17, 18, 19, 20, 21, 22, 23, 24, 25, 26, 27, 28, 29, 30, 31, 32, 33,\n",
       "       34, 35, 36, 37, 38, 39, 40, 41, 42, 43, 44, 45, 46, 47, 48, 49, 50,\n",
       "       51, 52, 53, 54, 55, 56, 57, 58, 59, 60, 61, 62, 63, 64, 65, 66, 67,\n",
       "       68, 69, 70, 71, 72, 73, 74, 75, 76, 77, 78, 79, 80, 81, 82, 83, 84,\n",
       "       85, 86, 87, 88, 89, 90, 91, 92, 93, 94, 95, 96, 97, 98, 99])"
      ]
     },
     "execution_count": 217,
     "metadata": {},
     "output_type": "execute_result"
    }
   ],
   "source": [
    "A"
   ]
  },
  {
   "cell_type": "code",
   "execution_count": 219,
   "id": "63713b46",
   "metadata": {},
   "outputs": [
    {
     "data": {
      "text/plain": [
       "array([20, 21, 22, 23, 24, 25, 26, 27, 28, 29, 30, 31, 32, 33, 34, 35, 36,\n",
       "       37, 38, 39, 40, 41, 42, 43, 44, 45, 46, 47, 48, 49, 50, 51, 52, 53,\n",
       "       54, 55, 56, 57, 58, 59, 60, 61, 62, 63, 64, 65, 66, 67, 68, 69, 70,\n",
       "       71, 72, 73, 74, 75, 76, 77, 78, 79, 80, 81, 82, 83, 84, 85, 86, 87,\n",
       "       88, 89, 90, 91, 92, 93, 94, 95, 96, 97, 98, 99])"
      ]
     },
     "execution_count": 219,
     "metadata": {},
     "output_type": "execute_result"
    }
   ],
   "source": [
    "a = np.arange(20,100) # start the array at 20 and end at 99\n",
    "a"
   ]
  },
  {
   "cell_type": "code",
   "execution_count": 220,
   "id": "b73cb237",
   "metadata": {},
   "outputs": [
    {
     "data": {
      "text/plain": [
       "array([20, 23, 26, 29, 32, 35, 38, 41, 44, 47, 50, 53, 56, 59, 62, 65, 68,\n",
       "       71, 74, 77, 80, 83, 86, 89, 92, 95, 98])"
      ]
     },
     "execution_count": 220,
     "metadata": {},
     "output_type": "execute_result"
    }
   ],
   "source": [
    "aA = np.arange(20,100,3) # start at 20, end at 99 and jump from 3 to 3\n",
    "aA"
   ]
  },
  {
   "cell_type": "code",
   "execution_count": 221,
   "id": "42a1872c",
   "metadata": {},
   "outputs": [
    {
     "name": "stdout",
     "output_type": "stream",
     "text": [
      "range(0, 10)\n"
     ]
    }
   ],
   "source": [
    "print(range(10))"
   ]
  },
  {
   "cell_type": "code",
   "execution_count": 223,
   "id": "0034726c",
   "metadata": {},
   "outputs": [
    {
     "name": "stdout",
     "output_type": "stream",
     "text": [
      "[0, 1, 2, 3, 4, 5, 6, 7, 8, 9]\n"
     ]
    }
   ],
   "source": [
    "print(list(range(10)))"
   ]
  },
  {
   "cell_type": "code",
   "execution_count": 224,
   "id": "c4132856",
   "metadata": {},
   "outputs": [
    {
     "data": {
      "text/plain": [
       "array([8, 3, 4, 2, 0, 9, 1, 5, 7, 6])"
      ]
     },
     "execution_count": 224,
     "metadata": {},
     "output_type": "execute_result"
    }
   ],
   "source": [
    "A = np.random.permutation(np.arange(10))\n",
    "#np.arange - creates a list of elements from 0 to 9 \n",
    "# random.permutation shuffles the elements of the array in a random fashion\n",
    "A"
   ]
  },
  {
   "cell_type": "code",
   "execution_count": 231,
   "id": "df9a746d",
   "metadata": {},
   "outputs": [],
   "source": [
    "v = np.random.randint(20,300)"
   ]
  },
  {
   "cell_type": "code",
   "execution_count": 232,
   "id": "d3ef200e",
   "metadata": {},
   "outputs": [
    {
     "data": {
      "text/plain": [
       "int"
      ]
     },
     "execution_count": 232,
     "metadata": {},
     "output_type": "execute_result"
    }
   ],
   "source": [
    "type(v)"
   ]
  },
  {
   "cell_type": "code",
   "execution_count": 239,
   "id": "9079a051",
   "metadata": {},
   "outputs": [
    {
     "data": {
      "text/plain": [
       "array([0.95195032, 0.4177646 , 0.77856809, 0.37917192, 0.89526888,\n",
       "       0.0089712 , 0.99600253, 0.84021283, 0.77743494, 0.24762472,\n",
       "       0.89410997, 0.77493429, 0.74811443, 0.61070387, 0.24377604,\n",
       "       0.46928147, 0.60951895, 0.94714371, 0.27493145, 0.00415235,\n",
       "       0.9470002 , 0.79453836, 0.40686816, 0.88349133, 0.28271794,\n",
       "       0.27627562, 0.04222606, 0.34768721, 0.98156455, 0.13261685,\n",
       "       0.33577124, 0.97880215, 0.29793304, 0.16534813, 0.97980828,\n",
       "       0.49910155, 0.39021211, 0.18890025, 0.47518389, 0.79992728,\n",
       "       0.38028429, 0.36526738, 0.89292356, 0.3373893 , 0.4413909 ,\n",
       "       0.78688089, 0.22064998, 0.82537387, 0.33672597, 0.36537374,\n",
       "       0.54422059, 0.84235213, 0.03106023, 0.70624403, 0.71848309,\n",
       "       0.90060341, 0.66327897, 0.99580524, 0.08278348, 0.17139587,\n",
       "       0.02076038, 0.35426345, 0.99445512, 0.42916144, 0.87324395,\n",
       "       0.59305321, 0.38146325, 0.90816095, 0.69914863, 0.27356834,\n",
       "       0.77666478, 0.1781954 , 0.18667463, 0.22384107, 0.12592489,\n",
       "       0.5826308 , 0.60414575, 0.52114588, 0.19231718, 0.85431895,\n",
       "       0.71255098, 0.99795573, 0.73456019, 0.42961138, 0.32776237,\n",
       "       0.36375619, 0.76454137, 0.02354894, 0.53584482, 0.96471252,\n",
       "       0.26402669, 0.96996204, 0.28672886, 0.95914237, 0.96610983,\n",
       "       0.13299205, 0.69699296, 0.50389871, 0.73975485, 0.24721326,\n",
       "       0.31618424, 0.43287265, 0.4110704 , 0.37298663, 0.25448928,\n",
       "       0.88748255, 0.12099691, 0.2109491 , 0.6102674 , 0.3673142 ,\n",
       "       0.33834135, 0.64611015, 0.73990232, 0.02964856, 0.40925268,\n",
       "       0.03896895, 0.26561017, 0.8426993 , 0.71755426, 0.7568919 ,\n",
       "       0.92411186, 0.87943274, 0.74667018, 0.74950725, 0.1367428 ,\n",
       "       0.92609877, 0.25573061, 0.29725347, 0.99921245, 0.31957214,\n",
       "       0.77729383, 0.70559278, 0.33288458, 0.83493314, 0.82754997,\n",
       "       0.73256782, 0.75736868, 0.2622517 , 0.71382663, 0.99002948,\n",
       "       0.0450769 , 0.86821164, 0.5569973 , 0.99008408, 0.55847377,\n",
       "       0.28526134, 0.28637261, 0.66052504, 0.45692157, 0.93633377,\n",
       "       0.21553761, 0.14767505, 0.85692435, 0.07108137, 0.05999453,\n",
       "       0.24152642, 0.05756389, 0.95456998, 0.53113813, 0.79497418,\n",
       "       0.85856767, 0.75530454, 0.93912635, 0.92446459, 0.13139668,\n",
       "       0.76319096, 0.74840402, 0.90238895, 0.2494322 , 0.38380239,\n",
       "       0.45217968, 0.31101064, 0.54317392, 0.64795793, 0.93501456,\n",
       "       0.20490392, 0.83050289, 0.56332047, 0.8183274 , 0.27263837,\n",
       "       0.33580467, 0.03742236, 0.668112  , 0.60144786, 0.53465216,\n",
       "       0.24026857, 0.33595304, 0.16277885, 0.2554959 , 0.40259061,\n",
       "       0.5721151 , 0.44955822, 0.59685781, 0.52271626, 0.68219248,\n",
       "       0.50258479, 0.16644105, 0.05858868, 0.47973609, 0.32048858,\n",
       "       0.59997544, 0.83254871, 0.81399919, 0.72160014, 0.54219885,\n",
       "       0.38846323, 0.64131316, 0.94210938, 0.55430625, 0.07361455,\n",
       "       0.49316963, 0.52964262, 0.27280251, 0.45779239, 0.99485917,\n",
       "       0.21951826, 0.65256004, 0.41152934, 0.93921852, 0.62382125,\n",
       "       0.30342126, 0.98635059, 0.10072392, 0.55394619, 0.86844085,\n",
       "       0.44915309, 0.48405043, 0.38134005, 0.82911896, 0.66629798,\n",
       "       0.92680032, 0.43237077, 0.40058678, 0.5526658 , 0.93224601,\n",
       "       0.14393691, 0.75582582, 0.53278917, 0.74866263, 0.06471722,\n",
       "       0.59675527, 0.94292994, 0.33209464, 0.05380943, 0.92066349,\n",
       "       0.84768364, 0.8368873 , 0.20360404, 0.31521564, 0.21158941,\n",
       "       0.99504091, 0.06417522, 0.63353274, 0.55917148, 0.98153162,\n",
       "       0.59986043, 0.41931899, 0.27657537, 0.51171277, 0.71871895,\n",
       "       0.28352849, 0.24163531, 0.65983757, 0.18953831, 0.05877629,\n",
       "       0.55970594, 0.83741816, 0.86578231, 0.73289789, 0.58649274,\n",
       "       0.44534284, 0.25657219, 0.80499186, 0.90201096, 0.59025315,\n",
       "       0.1430086 , 0.5413472 , 0.18449501, 0.61088172, 0.41931493,\n",
       "       0.52667227, 0.67741237, 0.30214462, 0.95665387, 0.42867417,\n",
       "       0.48132882, 0.51158354, 0.64821188, 0.95123152, 0.57698945,\n",
       "       0.87040639, 0.66208742, 0.47814394, 0.12129023, 0.75207681,\n",
       "       0.33412866, 0.26796398, 0.91760951, 0.33417682, 0.44053802,\n",
       "       0.6888818 , 0.22787806, 0.72450624, 0.67225371, 0.86315129,\n",
       "       0.39655258, 0.6360851 , 0.57888535, 0.47099604, 0.10447523,\n",
       "       0.12199763, 0.63764662, 0.30392134, 0.08262726, 0.54194983,\n",
       "       0.62608292, 0.77277782, 0.80137808, 0.01210352, 0.34759229,\n",
       "       0.7775961 , 0.05115811, 0.39745178, 0.33057787, 0.53813812,\n",
       "       0.56837317, 0.23211954, 0.87247821, 0.0205678 , 0.27729226,\n",
       "       0.73379503, 0.24946267, 0.59118215, 0.36213702, 0.73451612,\n",
       "       0.30060454, 0.01393504, 0.69334754, 0.1050091 , 0.59087031,\n",
       "       0.55020968, 0.39909807, 0.58104329, 0.79077249, 0.31754371,\n",
       "       0.46293022, 0.78487282, 0.94211902, 0.49296291, 0.4190909 ,\n",
       "       0.09687454, 0.37023887, 0.71955732, 0.6076762 , 0.27153309,\n",
       "       0.3458226 , 0.85240242, 0.47231734, 0.26538466, 0.92507164,\n",
       "       0.99366857, 0.35356847, 0.67078542, 0.50588077, 0.66389343,\n",
       "       0.729546  , 0.96683253, 0.46373801, 0.11507547, 0.45655599,\n",
       "       0.98506703, 0.07737305, 0.49880047, 0.80662861, 0.1216814 ,\n",
       "       0.83601305, 0.6438363 , 0.90036879, 0.26270679, 0.99184033,\n",
       "       0.01160153, 0.92194562, 0.09655256, 0.16321608, 0.39876643,\n",
       "       0.70648148, 0.7713591 , 0.15371651, 0.85426265, 0.36932448,\n",
       "       0.01032976, 0.37638268, 0.74945002, 0.99819009, 0.9948143 ,\n",
       "       0.5202925 , 0.87249561, 0.79839719, 0.26831116, 0.46619269,\n",
       "       0.26753901, 0.23084283, 0.72725523, 0.35340791, 0.93354099,\n",
       "       0.36844334, 0.4173996 , 0.43235255, 0.33603916, 0.63732272,\n",
       "       0.50214519, 0.80485225, 0.28229823, 0.99263288, 0.3401117 ,\n",
       "       0.67773978, 0.46266827, 0.54328035, 0.50684618, 0.63930587,\n",
       "       0.76877839, 0.22260846, 0.47836865, 0.15915118, 0.82248938,\n",
       "       0.79185239, 0.19365454, 0.01109491, 0.49925342, 0.79752716,\n",
       "       0.43450436, 0.40373005, 0.42219822, 0.46314848, 0.96998465,\n",
       "       0.83341858, 0.36465064, 0.00974128, 0.08270835, 0.46120428,\n",
       "       0.75265925, 0.60081849, 0.80087868, 0.59369366, 0.74499492,\n",
       "       0.33349697, 0.62733323, 0.03042379, 0.24681233, 0.71108407,\n",
       "       0.60984939, 0.29255596, 0.72186421, 0.08498154, 0.38051774,\n",
       "       0.00991982, 0.50926691, 0.15277434, 0.57888311, 0.22374967,\n",
       "       0.86078839, 0.25991834, 0.18955347, 0.07716761, 0.98651568,\n",
       "       0.1552686 , 0.43945365, 0.71893282, 0.68665474, 0.5262206 ,\n",
       "       0.03363514, 0.59309281, 0.08760311, 0.60345909, 0.20772614,\n",
       "       0.90160983, 0.39338035, 0.44279909, 0.64288648, 0.88669225,\n",
       "       0.82660786, 0.94202628, 0.74098837, 0.79134013, 0.87897555,\n",
       "       0.10446846, 0.75604752, 0.98972055, 0.07883285, 0.21207024,\n",
       "       0.73388888, 0.27411304, 0.72598367, 0.25330749, 0.1601778 ,\n",
       "       0.84434215, 0.92255241, 0.5544638 , 0.47375042, 0.35113385,\n",
       "       0.31147006, 0.35804055, 0.26230836, 0.74263073, 0.51444869,\n",
       "       0.40980548, 0.86055357, 0.50111909, 0.00645176, 0.72928577,\n",
       "       0.18281919, 0.22235308, 0.59570585, 0.62772774, 0.20236862,\n",
       "       0.37712205, 0.20905333, 0.6142972 , 0.29589608, 0.88329013,\n",
       "       0.88569769, 0.49877133, 0.63560463, 0.21438562, 0.80440093,\n",
       "       0.99050085, 0.00646175, 0.75461513, 0.49458867, 0.66389482,\n",
       "       0.04794989, 0.05595887, 0.94177269, 0.57018365, 0.4051314 ,\n",
       "       0.92703868, 0.78417708, 0.92204857, 0.99949643, 0.9708849 ,\n",
       "       0.94406313, 0.61739359, 0.36411827, 0.1430216 , 0.96325356,\n",
       "       0.53585259, 0.85543031, 0.04514491, 0.30762497, 0.38522674,\n",
       "       0.72701943, 0.10860287, 0.6241339 , 0.98430127, 0.93426442,\n",
       "       0.3149592 , 0.59638188, 0.25558942, 0.87400897, 0.2492626 ,\n",
       "       0.88862614, 0.66499457, 0.33565792, 0.13005354, 0.32661296,\n",
       "       0.19318467, 0.61685702, 0.44543441, 0.97658298, 0.69678421,\n",
       "       0.45325675, 0.63338823, 0.24218111, 0.67406884, 0.180886  ,\n",
       "       0.3456856 , 0.24084941, 0.31556854, 0.77319817, 0.8302717 ,\n",
       "       0.89256342, 0.29502175, 0.29033844, 0.14569957, 0.54239284,\n",
       "       0.09658728, 0.45542893, 0.65575483, 0.19971667, 0.43414515,\n",
       "       0.67714814, 0.9457353 , 0.05437258, 0.49498874, 0.56009075,\n",
       "       0.90994795, 0.20651136, 0.52871884, 0.27559918, 0.33509437,\n",
       "       0.43054807, 0.39221857, 0.93501305, 0.85536526, 0.37320976,\n",
       "       0.08668801, 0.8067526 , 0.82172016, 0.75785858, 0.83740075,\n",
       "       0.66584706, 0.81462425, 0.0360592 , 0.24226438, 0.56551797,\n",
       "       0.75923947, 0.92877175, 0.404438  , 0.38765623, 0.78957335,\n",
       "       0.14871321, 0.4161536 , 0.8552333 , 0.02871622, 0.13791368,\n",
       "       0.58629836, 0.76427617, 0.38103783, 0.54967294, 0.73270278,\n",
       "       0.81595283, 0.32821656, 0.43332438, 0.24574153, 0.41086508,\n",
       "       0.39544993, 0.17949941, 0.18360475, 0.46251852, 0.58097459,\n",
       "       0.03145238, 0.885206  , 0.13647715, 0.30006069, 0.91746187,\n",
       "       0.65310839, 0.97953899, 0.47016924, 0.08315104, 0.4444472 ,\n",
       "       0.93911547, 0.96991736, 0.89205678, 0.76300417, 0.84608841,\n",
       "       0.97464946, 0.29291555, 0.51512419, 0.31711702, 0.13551446,\n",
       "       0.37241464, 0.95702794, 0.22326381, 0.15891083, 0.19613524,\n",
       "       0.68378198, 0.23098289, 0.14333789, 0.78383487, 0.02754061,\n",
       "       0.80914649, 0.3750724 , 0.11659662, 0.60764662, 0.77360384,\n",
       "       0.53586605, 0.49275039, 0.72327743, 0.42806655, 0.71193979,\n",
       "       0.96769249, 0.55219619, 0.20796071, 0.8993667 , 0.92093743,\n",
       "       0.79526307, 0.51383113, 0.90845184, 0.59855133, 0.65273445,\n",
       "       0.01553751, 0.89607288, 0.79354807, 0.76575506, 0.48485226,\n",
       "       0.40102035, 0.66061206, 0.59636718, 0.16899645, 0.93643205,\n",
       "       0.13837438, 0.09818479, 0.72552271, 0.67171528, 0.19246694,\n",
       "       0.71409091, 0.25268377, 0.92774747, 0.32817644, 0.9837543 ,\n",
       "       0.20754605, 0.90245166, 0.6322599 , 0.59601221, 0.13517634,\n",
       "       0.05413702, 0.34588487, 0.55712633, 0.78432089, 0.10547201,\n",
       "       0.5342916 , 0.64034125, 0.64026666, 0.78426174, 0.63812081,\n",
       "       0.6147066 , 0.07272629, 0.902992  , 0.55299636, 0.40579229,\n",
       "       0.96707465, 0.81874305, 0.99531812, 0.56202835, 0.67495459,\n",
       "       0.61231214, 0.8118851 , 0.45327414, 0.33439768, 0.43779182,\n",
       "       0.49674092, 0.5347997 , 0.81604011, 0.38661125, 0.50841443,\n",
       "       0.50081354, 0.42319528, 0.79683269, 0.21439106, 0.29102972,\n",
       "       0.36944673, 0.6142228 , 0.5975561 , 0.61519109, 0.63752412,\n",
       "       0.92700621, 0.01522766, 0.60107586, 0.95000914, 0.06276797,\n",
       "       0.339231  , 0.03030355, 0.11299122, 0.77296944, 0.8112218 ,\n",
       "       0.53894649, 0.11011253, 0.61995747, 0.78389224, 0.77603282,\n",
       "       0.26141154, 0.32080482, 0.33450682, 0.74671022, 0.16796184,\n",
       "       0.90833206, 0.31332667, 0.56939738, 0.34695492, 0.37374393,\n",
       "       0.22767531, 0.95001024, 0.54328213, 0.69069937, 0.61795233,\n",
       "       0.40509134, 0.81417787, 0.24342176, 0.98764841, 0.92923464,\n",
       "       0.16993037, 0.9684746 , 0.23041442, 0.43642639, 0.27686634,\n",
       "       0.08339516, 0.72229052, 0.53733906, 0.67976485, 0.74941724,\n",
       "       0.54260532, 0.73940049, 0.63690358, 0.28139168, 0.9881107 ,\n",
       "       0.83789615, 0.76772147, 0.74858308, 0.01429005, 0.69247729,\n",
       "       0.03666277, 0.44338988, 0.8657966 , 0.8811654 , 0.97948103,\n",
       "       0.98955401, 0.5740504 , 0.63568204, 0.6089209 , 0.27706497,\n",
       "       0.34404568, 0.59295562, 0.00308263, 0.90981175, 0.43625356,\n",
       "       0.60200119, 0.84363045, 0.38477869, 0.9171695 , 0.13952255,\n",
       "       0.36290409, 0.15625716, 0.3078487 , 0.05738406, 0.9785308 ,\n",
       "       0.33507139, 0.95371348, 0.80421258, 0.41175546, 0.31922724,\n",
       "       0.82670261, 0.44020925, 0.26502007, 0.87133312, 0.8082743 ,\n",
       "       0.6926631 , 0.08776572, 0.25145497, 0.33323173, 0.92340736,\n",
       "       0.59508048, 0.46749282, 0.59613581, 0.39627913, 0.97857515,\n",
       "       0.87737159, 0.32817787, 0.2476396 , 0.00467683, 0.95701226,\n",
       "       0.70403192, 0.84515057, 0.74805117, 0.5055451 , 0.38052937,\n",
       "       0.59606007, 0.42694755, 0.9700937 , 0.41949557, 0.74514533,\n",
       "       0.13860749, 0.83073679, 0.59195175, 0.17086289, 0.88483061,\n",
       "       0.78434852, 0.19542537, 0.38655649, 0.20886593, 0.41250539,\n",
       "       0.06812591, 0.97202172, 0.58857853, 0.09403298, 0.45607307,\n",
       "       0.1272136 , 0.23040646, 0.4438933 , 0.35997034, 0.21870149,\n",
       "       0.48458987, 0.77934711, 0.61241322, 0.55994394, 0.27136186,\n",
       "       0.18235351, 0.30001272, 0.59274462, 0.29068566, 0.72341253,\n",
       "       0.73904004, 0.47943834, 0.75348698, 0.79694724, 0.47353557,\n",
       "       0.47116536, 0.7945203 , 0.33127544, 0.60615889, 0.89594319,\n",
       "       0.28603081, 0.70187317, 0.17507998, 0.27060515, 0.13261544,\n",
       "       0.09372688, 0.09311298, 0.9613138 , 0.03043365, 0.85368596,\n",
       "       0.47613411, 0.04526412, 0.35421865, 0.03720155, 0.05011269,\n",
       "       0.05307782, 0.22815752, 0.88637749, 0.48413782, 0.53380323,\n",
       "       0.4512566 , 0.72029029, 0.31088527, 0.08175247, 0.17081183,\n",
       "       0.99207779, 0.01915332, 0.01141312, 0.04806965, 0.79542094,\n",
       "       0.18747186, 0.63522065, 0.75592714, 0.64091387, 0.27500592,\n",
       "       0.83648838, 0.25631345, 0.21944801, 0.26915313, 0.06526151,\n",
       "       0.21283649, 0.54058903, 0.51958206, 0.23615811, 0.79265361,\n",
       "       0.02747626, 0.97994059, 0.58420104, 0.6168201 , 0.9423545 ,\n",
       "       0.93013791, 0.5561787 , 0.6212912 , 0.00651014, 0.99032119,\n",
       "       0.24324879, 0.03325328, 0.85951906, 0.9075394 , 0.0355748 ,\n",
       "       0.79481886, 0.65084958, 0.65108709, 0.53218859, 0.56897856,\n",
       "       0.86694003, 0.30814834, 0.10383348, 0.26488372, 0.84405382,\n",
       "       0.53243729, 0.7635537 , 0.81290439, 0.28576939, 0.37416713,\n",
       "       0.94349183, 0.67401793, 0.90061639, 0.85644819, 0.05120428,\n",
       "       0.68660638, 0.60354296, 0.46723011, 0.84370417, 0.49300042,\n",
       "       0.78453331, 0.51237525, 0.13678224, 0.02063627, 0.35470488])"
      ]
     },
     "execution_count": 239,
     "metadata": {},
     "output_type": "execute_result"
    }
   ],
   "source": [
    "Aaa = np.random.rand(1000)\n",
    "Aaa"
   ]
  },
  {
   "cell_type": "code",
   "execution_count": 240,
   "id": "6195b179",
   "metadata": {},
   "outputs": [
    {
     "data": {
      "text/plain": [
       "(array([14.,  8., 10.,  9.,  8., 11.,  6.,  8.,  6.,  8.,  7.,  7.,  5.,\n",
       "        11.,  7.,  7., 10.,  5.,  9.,  6., 12.,  8., 13.,  6., 13., 10.,\n",
       "        15., 13., 11.,  9.,  9., 11.,  7., 20.,  8.,  7., 12., 15.,  8.,\n",
       "        10., 12.,  9.,  8., 13.,  9.,  9., 12., 10.,  4., 13.,  8.,  9.,\n",
       "         6., 14., 11., 14.,  7.,  6.,  8., 21., 15., 11.,  6., 15.,  7.,\n",
       "         9.,  8., 10.,  5.,  7.,  5., 11., 12., 11., 14., 12.,  8., 13.,\n",
       "        10., 16., 10., 10.,  7., 12., 10., 11.,  8.,  9., 10.,  8., 13.,\n",
       "         4., 16., 11., 11., 10.,  8., 13., 11., 21.]),\n",
       " array([0.00308263, 0.01304677, 0.02301091, 0.03297504, 0.04293918,\n",
       "        0.05290332, 0.06286746, 0.0728316 , 0.08279573, 0.09275987,\n",
       "        0.10272401, 0.11268815, 0.12265229, 0.13261642, 0.14258056,\n",
       "        0.1525447 , 0.16250884, 0.17247298, 0.18243711, 0.19240125,\n",
       "        0.20236539, 0.21232953, 0.22229367, 0.2322578 , 0.24222194,\n",
       "        0.25218608, 0.26215022, 0.27211436, 0.28207849, 0.29204263,\n",
       "        0.30200677, 0.31197091, 0.32193505, 0.33189919, 0.34186332,\n",
       "        0.35182746, 0.3617916 , 0.37175574, 0.38171988, 0.39168401,\n",
       "        0.40164815, 0.41161229, 0.42157643, 0.43154057, 0.4415047 ,\n",
       "        0.45146884, 0.46143298, 0.47139712, 0.48136126, 0.49132539,\n",
       "        0.50128953, 0.51125367, 0.52121781, 0.53118195, 0.54114608,\n",
       "        0.55111022, 0.56107436, 0.5710385 , 0.58100264, 0.59096677,\n",
       "        0.60093091, 0.61089505, 0.62085919, 0.63082333, 0.64078746,\n",
       "        0.6507516 , 0.66071574, 0.67067988, 0.68064402, 0.69060815,\n",
       "        0.70057229, 0.71053643, 0.72050057, 0.73046471, 0.74042884,\n",
       "        0.75039298, 0.76035712, 0.77032126, 0.7802854 , 0.79024953,\n",
       "        0.80021367, 0.81017781, 0.82014195, 0.83010609, 0.84007023,\n",
       "        0.85003436, 0.8599985 , 0.86996264, 0.87992678, 0.88989092,\n",
       "        0.89985505, 0.90981919, 0.91978333, 0.92974747, 0.93971161,\n",
       "        0.94967574, 0.95963988, 0.96960402, 0.97956816, 0.9895323 ,\n",
       "        0.99949643]),\n",
       " <BarContainer object of 100 artists>)"
      ]
     },
     "execution_count": 240,
     "metadata": {},
     "output_type": "execute_result"
    },
    {
     "data": {
      "image/png": "[encoded data removed]",
      "text/plain": [
       "<Figure size 432x288 with 1 Axes>"
      ]
     },
     "metadata": {
      "needs_background": "light"
     },
     "output_type": "display_data"
    }
   ],
   "source": [
    "import matplotlib.pyplot as plt\n",
    "plt.hist(Aaa, bins = 100)"
   ]
  },
  {
   "cell_type": "code",
   "execution_count": 241,
   "id": "794ade37",
   "metadata": {},
   "outputs": [
    {
     "data": {
      "text/plain": [
       "(array([1.000e+00, 0.000e+00, 0.000e+00, 0.000e+00, 0.000e+00, 0.000e+00,\n",
       "        0.000e+00, 0.000e+00, 1.000e+00, 0.000e+00, 0.000e+00, 1.000e+00,\n",
       "        0.000e+00, 0.000e+00, 0.000e+00, 2.000e+00, 1.000e+00, 1.000e+00,\n",
       "        2.000e+00, 1.000e+00, 4.000e+00, 0.000e+00, 3.000e+00, 3.000e+00,\n",
       "        3.000e+00, 5.000e+00, 6.000e+00, 4.000e+00, 5.000e+00, 9.000e+00,\n",
       "        1.000e+01, 1.000e+01, 1.500e+01, 1.600e+01, 1.700e+01, 2.100e+01,\n",
       "        2.900e+01, 2.200e+01, 2.700e+01, 3.300e+01, 3.400e+01, 3.900e+01,\n",
       "        6.100e+01, 6.000e+01, 5.200e+01, 7.200e+01, 8.900e+01, 9.800e+01,\n",
       "        1.080e+02, 9.900e+01, 1.090e+02, 1.280e+02, 1.370e+02, 1.470e+02,\n",
       "        1.850e+02, 2.060e+02, 2.000e+02, 2.410e+02, 2.500e+02, 2.870e+02,\n",
       "        2.730e+02, 3.520e+02, 3.770e+02, 3.720e+02, 4.470e+02, 4.630e+02,\n",
       "        4.980e+02, 5.420e+02, 5.480e+02, 6.090e+02, 5.990e+02, 6.540e+02,\n",
       "        6.750e+02, 8.020e+02, 8.390e+02, 8.470e+02, 8.870e+02, 9.400e+02,\n",
       "        1.006e+03, 1.045e+03, 1.182e+03, 1.123e+03, 1.223e+03, 1.253e+03,\n",
       "        1.300e+03, 1.312e+03, 1.335e+03, 1.400e+03, 1.457e+03, 1.538e+03,\n",
       "        1.557e+03, 1.607e+03, 1.567e+03, 1.646e+03, 1.701e+03, 1.754e+03,\n",
       "        1.699e+03, 1.759e+03, 1.778e+03, 1.801e+03, 1.795e+03, 1.790e+03,\n",
       "        1.708e+03, 1.812e+03, 1.802e+03, 1.755e+03, 1.792e+03, 1.701e+03,\n",
       "        1.705e+03, 1.698e+03, 1.670e+03, 1.665e+03, 1.682e+03, 1.644e+03,\n",
       "        1.568e+03, 1.575e+03, 1.417e+03, 1.442e+03, 1.381e+03, 1.320e+03,\n",
       "        1.352e+03, 1.244e+03, 1.206e+03, 1.158e+03, 1.049e+03, 1.037e+03,\n",
       "        9.720e+02, 9.600e+02, 8.620e+02, 7.860e+02, 8.210e+02, 7.310e+02,\n",
       "        7.170e+02, 6.820e+02, 6.370e+02, 6.160e+02, 5.790e+02, 5.030e+02,\n",
       "        4.930e+02, 4.430e+02, 4.500e+02, 4.030e+02, 3.520e+02, 3.250e+02,\n",
       "        3.170e+02, 2.530e+02, 2.710e+02, 2.110e+02, 1.940e+02, 2.030e+02,\n",
       "        1.780e+02, 1.880e+02, 1.230e+02, 1.290e+02, 1.090e+02, 1.010e+02,\n",
       "        1.080e+02, 8.100e+01, 6.700e+01, 9.100e+01, 4.900e+01, 4.200e+01,\n",
       "        4.100e+01, 4.000e+01, 3.300e+01, 3.300e+01, 3.300e+01, 2.200e+01,\n",
       "        2.200e+01, 1.500e+01, 1.900e+01, 1.400e+01, 1.100e+01, 1.600e+01,\n",
       "        1.600e+01, 8.000e+00, 5.000e+00, 8.000e+00, 2.000e+00, 2.000e+00,\n",
       "        4.000e+00, 7.000e+00, 2.000e+00, 1.000e+00, 0.000e+00, 4.000e+00,\n",
       "        0.000e+00, 2.000e+00, 0.000e+00, 0.000e+00, 0.000e+00, 0.000e+00,\n",
       "        0.000e+00, 2.000e+00, 1.000e+00, 0.000e+00, 0.000e+00, 0.000e+00,\n",
       "        0.000e+00, 1.000e+00]),\n",
       " array([-4.59782409, -4.55295204, -4.50808   , -4.46320796, -4.41833591,\n",
       "        -4.37346387, -4.32859182, -4.28371978, -4.23884774, -4.19397569,\n",
       "        -4.14910365, -4.1042316 , -4.05935956, -4.01448752, -3.96961547,\n",
       "        -3.92474343, -3.87987138, -3.83499934, -3.7901273 , -3.74525525,\n",
       "        -3.70038321, -3.65551116, -3.61063912, -3.56576707, -3.52089503,\n",
       "        -3.47602299, -3.43115094, -3.3862789 , -3.34140685, -3.29653481,\n",
       "        -3.25166277, -3.20679072, -3.16191868, -3.11704663, -3.07217459,\n",
       "        -3.02730255, -2.9824305 , -2.93755846, -2.89268641, -2.84781437,\n",
       "        -2.80294233, -2.75807028, -2.71319824, -2.66832619, -2.62345415,\n",
       "        -2.57858211, -2.53371006, -2.48883802, -2.44396597, -2.39909393,\n",
       "        -2.35422189, -2.30934984, -2.2644778 , -2.21960575, -2.17473371,\n",
       "        -2.12986166, -2.08498962, -2.04011758, -1.99524553, -1.95037349,\n",
       "        -1.90550144, -1.8606294 , -1.81575736, -1.77088531, -1.72601327,\n",
       "        -1.68114122, -1.63626918, -1.59139714, -1.54652509, -1.50165305,\n",
       "        -1.456781  , -1.41190896, -1.36703692, -1.32216487, -1.27729283,\n",
       "        -1.23242078, -1.18754874, -1.1426767 , -1.09780465, -1.05293261,\n",
       "        -1.00806056, -0.96318852, -0.91831648, -0.87344443, -0.82857239,\n",
       "        -0.78370034, -0.7388283 , -0.69395625, -0.64908421, -0.60421217,\n",
       "        -0.55934012, -0.51446808, -0.46959603, -0.42472399, -0.37985195,\n",
       "        -0.3349799 , -0.29010786, -0.24523581, -0.20036377, -0.15549173,\n",
       "        -0.11061968, -0.06574764, -0.02087559,  0.02399645,  0.06886849,\n",
       "         0.11374054,  0.15861258,  0.20348463,  0.24835667,  0.29322871,\n",
       "         0.33810076,  0.3829728 ,  0.42784485,  0.47271689,  0.51758893,\n",
       "         0.56246098,  0.60733302,  0.65220507,  0.69707711,  0.74194916,\n",
       "         0.7868212 ,  0.83169324,  0.87656529,  0.92143733,  0.96630938,\n",
       "         1.01118142,  1.05605346,  1.10092551,  1.14579755,  1.1906696 ,\n",
       "         1.23554164,  1.28041368,  1.32528573,  1.37015777,  1.41502982,\n",
       "         1.45990186,  1.5047739 ,  1.54964595,  1.59451799,  1.63939004,\n",
       "         1.68426208,  1.72913412,  1.77400617,  1.81887821,  1.86375026,\n",
       "         1.9086223 ,  1.95349434,  1.99836639,  2.04323843,  2.08811048,\n",
       "         2.13298252,  2.17785457,  2.22272661,  2.26759865,  2.3124707 ,\n",
       "         2.35734274,  2.40221479,  2.44708683,  2.49195887,  2.53683092,\n",
       "         2.58170296,  2.62657501,  2.67144705,  2.71631909,  2.76119114,\n",
       "         2.80606318,  2.85093523,  2.89580727,  2.94067931,  2.98555136,\n",
       "         3.0304234 ,  3.07529545,  3.12016749,  3.16503953,  3.20991158,\n",
       "         3.25478362,  3.29965567,  3.34452771,  3.38939975,  3.4342718 ,\n",
       "         3.47914384,  3.52401589,  3.56888793,  3.61375998,  3.65863202,\n",
       "         3.70350406,  3.74837611,  3.79324815,  3.8381202 ,  3.88299224,\n",
       "         3.92786428,  3.97273633,  4.01760837,  4.06248042,  4.10735246,\n",
       "         4.1522245 ,  4.19709655,  4.24196859,  4.28684064,  4.33171268,\n",
       "         4.37658472]),\n",
       " <BarContainer object of 200 artists>)"
      ]
     },
     "execution_count": 241,
     "metadata": {},
     "output_type": "execute_result"
    },
    {
     "data": {
      "image/png": "[encoded data removed]",
      "text/plain": [
       "<Figure size 432x288 with 1 Axes>"
      ]
     },
     "metadata": {
      "needs_background": "light"
     },
     "output_type": "display_data"
    }
   ],
   "source": [
    "Be = np.random.randn(100000)\n",
    "plt.hist(Be,bins = 200)"
   ]
  },
  {
   "cell_type": "code",
   "execution_count": 242,
   "id": "a17f9e32",
   "metadata": {},
   "outputs": [],
   "source": [
    "Ce = np.random.rand(2,3)#creats a 2d array of random number"
   ]
  },
  {
   "cell_type": "code",
   "execution_count": 243,
   "id": "97b2045d",
   "metadata": {},
   "outputs": [
    {
     "data": {
      "text/plain": [
       "array([[0.25811483, 0.39761825, 0.46883096],\n",
       "       [0.82332025, 0.05531833, 0.81655363]])"
      ]
     },
     "execution_count": 243,
     "metadata": {},
     "output_type": "execute_result"
    }
   ],
   "source": [
    "Ce"
   ]
  },
  {
   "cell_type": "code",
   "execution_count": 244,
   "id": "1d1ce4c3",
   "metadata": {},
   "outputs": [
    {
     "data": {
      "text/plain": [
       "2"
      ]
     },
     "execution_count": 244,
     "metadata": {},
     "output_type": "execute_result"
    }
   ],
   "source": [
    "Ce.ndim"
   ]
  },
  {
   "cell_type": "code",
   "execution_count": 245,
   "id": "3d486d54",
   "metadata": {},
   "outputs": [],
   "source": [
    "Ce = np.random.rand(2,3,4,2) # 4 dim array, 2x3x4x2 \n",
    "# 2 there are 2 arrays that are 3 dimensional \n",
    "# each 3 dim has 3 2 dim arrays\n",
    "#each dim array has 4 dim array\n",
    "#each 1 dim has 2 elements"
   ]
  },
  {
   "cell_type": "code",
   "execution_count": 246,
   "id": "4bb776ef",
   "metadata": {},
   "outputs": [
    {
     "data": {
      "text/plain": [
       "4"
      ]
     },
     "execution_count": 246,
     "metadata": {},
     "output_type": "execute_result"
    }
   ],
   "source": [
    "Ce.ndim"
   ]
  },
  {
   "cell_type": "code",
   "execution_count": 247,
   "id": "293259d1",
   "metadata": {},
   "outputs": [],
   "source": [
    "D = np.arange(100).reshape(4,25) # 4 rows and 25 columns 4x25"
   ]
  },
  {
   "cell_type": "code",
   "execution_count": 248,
   "id": "b604143d",
   "metadata": {},
   "outputs": [
    {
     "data": {
      "text/plain": [
       "(4, 25)"
      ]
     },
     "execution_count": 248,
     "metadata": {},
     "output_type": "execute_result"
    }
   ],
   "source": [
    "D.shape"
   ]
  },
  {
   "cell_type": "code",
   "execution_count": 249,
   "id": "83e948c0",
   "metadata": {},
   "outputs": [
    {
     "data": {
      "text/plain": [
       "array([[ 0,  1,  2,  3,  4,  5,  6,  7,  8,  9, 10, 11, 12, 13, 14, 15,\n",
       "        16, 17, 18, 19, 20, 21, 22, 23, 24],\n",
       "       [25, 26, 27, 28, 29, 30, 31, 32, 33, 34, 35, 36, 37, 38, 39, 40,\n",
       "        41, 42, 43, 44, 45, 46, 47, 48, 49],\n",
       "       [50, 51, 52, 53, 54, 55, 56, 57, 58, 59, 60, 61, 62, 63, 64, 65,\n",
       "        66, 67, 68, 69, 70, 71, 72, 73, 74],\n",
       "       [75, 76, 77, 78, 79, 80, 81, 82, 83, 84, 85, 86, 87, 88, 89, 90,\n",
       "        91, 92, 93, 94, 95, 96, 97, 98, 99]])"
      ]
     },
     "execution_count": 249,
     "metadata": {},
     "output_type": "execute_result"
    }
   ],
   "source": [
    "D"
   ]
  },
  {
   "cell_type": "code",
   "execution_count": 250,
   "id": "14df6d0d",
   "metadata": {},
   "outputs": [],
   "source": [
    "D = np.arange(100).reshape(4,5,5)"
   ]
  },
  {
   "cell_type": "code",
   "execution_count": 251,
   "id": "e3981496",
   "metadata": {},
   "outputs": [
    {
     "data": {
      "text/plain": [
       "array([[[ 0,  1,  2,  3,  4],\n",
       "        [ 5,  6,  7,  8,  9],\n",
       "        [10, 11, 12, 13, 14],\n",
       "        [15, 16, 17, 18, 19],\n",
       "        [20, 21, 22, 23, 24]],\n",
       "\n",
       "       [[25, 26, 27, 28, 29],\n",
       "        [30, 31, 32, 33, 34],\n",
       "        [35, 36, 37, 38, 39],\n",
       "        [40, 41, 42, 43, 44],\n",
       "        [45, 46, 47, 48, 49]],\n",
       "\n",
       "       [[50, 51, 52, 53, 54],\n",
       "        [55, 56, 57, 58, 59],\n",
       "        [60, 61, 62, 63, 64],\n",
       "        [65, 66, 67, 68, 69],\n",
       "        [70, 71, 72, 73, 74]],\n",
       "\n",
       "       [[75, 76, 77, 78, 79],\n",
       "        [80, 81, 82, 83, 84],\n",
       "        [85, 86, 87, 88, 89],\n",
       "        [90, 91, 92, 93, 94],\n",
       "        [95, 96, 97, 98, 99]]])"
      ]
     },
     "execution_count": 251,
     "metadata": {},
     "output_type": "execute_result"
    }
   ],
   "source": [
    "D"
   ]
  },
  {
   "cell_type": "code",
   "execution_count": 252,
   "id": "e741bfca",
   "metadata": {},
   "outputs": [],
   "source": [
    "A = np.arange(100)"
   ]
  },
  {
   "cell_type": "code",
   "execution_count": 253,
   "id": "07dd5f41",
   "metadata": {},
   "outputs": [
    {
     "data": {
      "text/plain": [
       "array([3, 4, 5, 6, 7, 8, 9])"
      ]
     },
     "execution_count": 253,
     "metadata": {},
     "output_type": "execute_result"
    }
   ],
   "source": [
    "b = A[3:10]\n",
    "b"
   ]
  },
  {
   "cell_type": "code",
   "execution_count": 254,
   "id": "11129bfd",
   "metadata": {},
   "outputs": [
    {
     "name": "stdout",
     "output_type": "stream",
     "text": [
      "[3 4 5 6 7 8 9]\n"
     ]
    }
   ],
   "source": [
    "print(b)"
   ]
  },
  {
   "cell_type": "code",
   "execution_count": 255,
   "id": "ecd3bc0f",
   "metadata": {},
   "outputs": [],
   "source": [
    "b[0]= -1200"
   ]
  },
  {
   "cell_type": "code",
   "execution_count": 256,
   "id": "cdf47b53",
   "metadata": {},
   "outputs": [
    {
     "data": {
      "text/plain": [
       "array([    0,     1,     2, -1200,     4,     5,     6,     7,     8,\n",
       "           9,    10,    11,    12,    13,    14,    15,    16,    17,\n",
       "          18,    19,    20,    21,    22,    23,    24,    25,    26,\n",
       "          27,    28,    29,    30,    31,    32,    33,    34,    35,\n",
       "          36,    37,    38,    39,    40,    41,    42,    43,    44,\n",
       "          45,    46,    47,    48,    49,    50,    51,    52,    53,\n",
       "          54,    55,    56,    57,    58,    59,    60,    61,    62,\n",
       "          63,    64,    65,    66,    67,    68,    69,    70,    71,\n",
       "          72,    73,    74,    75,    76,    77,    78,    79,    80,\n",
       "          81,    82,    83,    84,    85,    86,    87,    88,    89,\n",
       "          90,    91,    92,    93,    94,    95,    96,    97,    98,\n",
       "          99])"
      ]
     },
     "execution_count": 256,
     "metadata": {},
     "output_type": "execute_result"
    }
   ],
   "source": [
    "A"
   ]
  },
  {
   "cell_type": "code",
   "execution_count": 257,
   "id": "0e374d45",
   "metadata": {},
   "outputs": [
    {
     "data": {
      "text/plain": [
       "array([-1200,     4,     5,     6,     7,     8,     9])"
      ]
     },
     "execution_count": 257,
     "metadata": {},
     "output_type": "execute_result"
    }
   ],
   "source": [
    "b"
   ]
  },
  {
   "cell_type": "code",
   "execution_count": 258,
   "id": "f08cb958",
   "metadata": {},
   "outputs": [],
   "source": [
    "b = A[3:10].copy()"
   ]
  },
  {
   "cell_type": "code",
   "execution_count": 259,
   "id": "c1127d70",
   "metadata": {},
   "outputs": [
    {
     "data": {
      "text/plain": [
       "array([ 0,  5, 10, 15, 20, 25, 30, 35, 40, 45, 50, 55, 60, 65, 70, 75, 80,\n",
       "       85, 90, 95])"
      ]
     },
     "execution_count": 259,
     "metadata": {},
     "output_type": "execute_result"
    }
   ],
   "source": [
    "A[::5] # start from the very fist element, go to the end from 5 to 5"
   ]
  },
  {
   "cell_type": "code",
   "execution_count": 260,
   "id": "63188e48",
   "metadata": {},
   "outputs": [
    {
     "data": {
      "text/plain": [
       "array([99, 94, 89, 84, 79, 74, 69, 64, 59, 54, 49, 44, 39, 34, 29, 24, 19,\n",
       "       14,  9,  4])"
      ]
     },
     "execution_count": 260,
     "metadata": {},
     "output_type": "execute_result"
    }
   ],
   "source": [
    "A[::-5] #reverse the array "
   ]
  },
  {
   "cell_type": "code",
   "execution_count": 261,
   "id": "df924d00",
   "metadata": {},
   "outputs": [
    {
     "data": {
      "text/plain": [
       "array([   99,    98,    97,    96,    95,    94,    93,    92,    91,\n",
       "          90,    89,    88,    87,    86,    85,    84,    83,    82,\n",
       "          81,    80,    79,    78,    77,    76,    75,    74,    73,\n",
       "          72,    71,    70,    69,    68,    67,    66,    65,    64,\n",
       "          63,    62,    61,    60,    59,    58,    57,    56,    55,\n",
       "          54,    53,    52,    51,    50,    49,    48,    47,    46,\n",
       "          45,    44,    43,    42,    41,    40,    39,    38,    37,\n",
       "          36,    35,    34,    33,    32,    31,    30,    29,    28,\n",
       "          27,    26,    25,    24,    23,    22,    21,    20,    19,\n",
       "          18,    17,    16,    15,    14,    13,    12,    11,    10,\n",
       "           9,     8,     7,     6,     5,     4, -1200,     2,     1,\n",
       "           0])"
      ]
     },
     "execution_count": 261,
     "metadata": {},
     "output_type": "execute_result"
    }
   ],
   "source": [
    "A[::-1]"
   ]
  },
  {
   "cell_type": "code",
   "execution_count": 262,
   "id": "1e7235b5",
   "metadata": {},
   "outputs": [],
   "source": [
    "b = (A==-1200)*np.arange(A.size)"
   ]
  },
  {
   "cell_type": "code",
   "execution_count": 263,
   "id": "bd5a2194",
   "metadata": {},
   "outputs": [
    {
     "data": {
      "text/plain": [
       "array([0, 0, 0, 3, 0, 0, 0, 0, 0, 0, 0, 0, 0, 0, 0, 0, 0, 0, 0, 0, 0, 0,\n",
       "       0, 0, 0, 0, 0, 0, 0, 0, 0, 0, 0, 0, 0, 0, 0, 0, 0, 0, 0, 0, 0, 0,\n",
       "       0, 0, 0, 0, 0, 0, 0, 0, 0, 0, 0, 0, 0, 0, 0, 0, 0, 0, 0, 0, 0, 0,\n",
       "       0, 0, 0, 0, 0, 0, 0, 0, 0, 0, 0, 0, 0, 0, 0, 0, 0, 0, 0, 0, 0, 0,\n",
       "       0, 0, 0, 0, 0, 0, 0, 0, 0, 0, 0, 0])"
      ]
     },
     "execution_count": 263,
     "metadata": {},
     "output_type": "execute_result"
    }
   ],
   "source": [
    "b"
   ]
  },
  {
   "cell_type": "code",
   "execution_count": 264,
   "id": "15862056",
   "metadata": {},
   "outputs": [
    {
     "data": {
      "text/plain": [
       "array([    0,     1,     2, -1200,     4,     5,     6,     7,     8,\n",
       "           9,    10,    11,    12,    13,    14,    15,    16,    17,\n",
       "          18,    19,    20,    21,    22,    23,    24,    25,    26,\n",
       "          27,    28,    29,    30,    31,    32,    33,    34,    35,\n",
       "          36,    37,    38,    39,    40,    41,    42,    43,    44,\n",
       "          45,    46,    47,    48,    49,    50,    51,    52,    53,\n",
       "          54,    55,    56,    57,    58,    59,    60,    61,    62,\n",
       "          63,    64,    65,    66,    67,    68,    69,    70,    71,\n",
       "          72,    73,    74,    75,    76,    77,    78,    79,    80,\n",
       "          81,    82,    83,    84,    85,    86,    87,    88,    89,\n",
       "          90,    91,    92,    93,    94,    95,    96,    97,    98,\n",
       "          99])"
      ]
     },
     "execution_count": 264,
     "metadata": {},
     "output_type": "execute_result"
    }
   ],
   "source": [
    "A"
   ]
  },
  {
   "cell_type": "code",
   "execution_count": 265,
   "id": "0b6b6a5b",
   "metadata": {},
   "outputs": [],
   "source": [
    "idx = np.argwhere(A==-1200)[0][0] # to find out the index of a value"
   ]
  },
  {
   "cell_type": "code",
   "execution_count": 266,
   "id": "4f158cab",
   "metadata": {},
   "outputs": [
    {
     "data": {
      "text/plain": [
       "3"
      ]
     },
     "execution_count": 266,
     "metadata": {},
     "output_type": "execute_result"
    }
   ],
   "source": [
    "idx"
   ]
  },
  {
   "cell_type": "code",
   "execution_count": 267,
   "id": "34c3a2c7",
   "metadata": {},
   "outputs": [],
   "source": [
    "A[idx] =3 #replace the -1200 back to it's original value which was 3"
   ]
  },
  {
   "cell_type": "code",
   "execution_count": 268,
   "id": "44e58c75",
   "metadata": {},
   "outputs": [
    {
     "data": {
      "text/plain": [
       "array([ 0,  1,  2,  3,  4,  5,  6,  7,  8,  9, 10, 11, 12, 13, 14, 15, 16,\n",
       "       17, 18, 19, 20, 21, 22, 23, 24, 25, 26, 27, 28, 29, 30, 31, 32, 33,\n",
       "       34, 35, 36, 37, 38, 39, 40, 41, 42, 43, 44, 45, 46, 47, 48, 49, 50,\n",
       "       51, 52, 53, 54, 55, 56, 57, 58, 59, 60, 61, 62, 63, 64, 65, 66, 67,\n",
       "       68, 69, 70, 71, 72, 73, 74, 75, 76, 77, 78, 79, 80, 81, 82, 83, 84,\n",
       "       85, 86, 87, 88, 89, 90, 91, 92, 93, 94, 95, 96, 97, 98, 99])"
      ]
     },
     "execution_count": 268,
     "metadata": {},
     "output_type": "execute_result"
    }
   ],
   "source": [
    "A"
   ]
  },
  {
   "cell_type": "code",
   "execution_count": 270,
   "id": "7bf4357a",
   "metadata": {},
   "outputs": [],
   "source": [
    "A = np.round(10*np.random.rand(5,4)) #scales the values to 10 and then it rounds the integers"
   ]
  },
  {
   "cell_type": "code",
   "execution_count": 271,
   "id": "37a8701b",
   "metadata": {},
   "outputs": [
    {
     "data": {
      "text/plain": [
       "array([[ 8.,  1.,  3.,  2.],\n",
       "       [ 7.,  7.,  2.,  1.],\n",
       "       [ 6.,  8.,  1.,  7.],\n",
       "       [ 2.,  6.,  6., 10.],\n",
       "       [ 8.,  3.,  6.,  5.]])"
      ]
     },
     "execution_count": 271,
     "metadata": {},
     "output_type": "execute_result"
    }
   ],
   "source": [
    "A"
   ]
  },
  {
   "cell_type": "code",
   "execution_count": 272,
   "id": "83b71a7c",
   "metadata": {},
   "outputs": [
    {
     "data": {
      "text/plain": [
       "2.0"
      ]
     },
     "execution_count": 272,
     "metadata": {},
     "output_type": "execute_result"
    }
   ],
   "source": [
    "A[1][2]"
   ]
  },
  {
   "cell_type": "code",
   "execution_count": 273,
   "id": "4b7056d9",
   "metadata": {},
   "outputs": [
    {
     "data": {
      "text/plain": [
       "array([7., 7., 2., 1.])"
      ]
     },
     "execution_count": 273,
     "metadata": {},
     "output_type": "execute_result"
    }
   ],
   "source": [
    "A[1,:] # slice the second row, all columns"
   ]
  },
  {
   "cell_type": "code",
   "execution_count": 274,
   "id": "6f273350",
   "metadata": {},
   "outputs": [
    {
     "data": {
      "text/plain": [
       "array([6., 8., 1., 7.])"
      ]
     },
     "execution_count": 274,
     "metadata": {},
     "output_type": "execute_result"
    }
   ],
   "source": [
    "A[2,:]"
   ]
  },
  {
   "cell_type": "code",
   "execution_count": 275,
   "id": "4de487dc",
   "metadata": {},
   "outputs": [
    {
     "data": {
      "text/plain": [
       "array([1., 7., 8., 6., 3.])"
      ]
     },
     "execution_count": 275,
     "metadata": {},
     "output_type": "execute_result"
    }
   ],
   "source": [
    "A[:,1] #slice column 2 from all the rows"
   ]
  },
  {
   "cell_type": "code",
   "execution_count": 276,
   "id": "c1e5386a",
   "metadata": {},
   "outputs": [
    {
     "data": {
      "text/plain": [
       "array([[2., 1.],\n",
       "       [1., 7.]])"
      ]
     },
     "execution_count": 276,
     "metadata": {},
     "output_type": "execute_result"
    }
   ],
   "source": [
    "A[1:3, 2:4] #access a sub metrics , row 1 to 3, of these rows, column 2 to 4"
   ]
  },
  {
   "cell_type": "code",
   "execution_count": 277,
   "id": "976ac057",
   "metadata": {},
   "outputs": [
    {
     "data": {
      "text/plain": [
       "array([[ 8.,  1.,  3.,  2.],\n",
       "       [ 7.,  7.,  2.,  1.],\n",
       "       [ 6.,  8.,  1.,  7.],\n",
       "       [ 2.,  6.,  6., 10.],\n",
       "       [ 8.,  3.,  6.,  5.]])"
      ]
     },
     "execution_count": 277,
     "metadata": {},
     "output_type": "execute_result"
    }
   ],
   "source": [
    "A"
   ]
  },
  {
   "cell_type": "code",
   "execution_count": 278,
   "id": "219d7fa1",
   "metadata": {},
   "outputs": [
    {
     "data": {
      "text/plain": [
       "array([[ 8.,  7.,  6.,  2.,  8.],\n",
       "       [ 1.,  7.,  8.,  6.,  3.],\n",
       "       [ 3.,  2.,  1.,  6.,  6.],\n",
       "       [ 2.,  1.,  7., 10.,  5.]])"
      ]
     },
     "execution_count": 278,
     "metadata": {},
     "output_type": "execute_result"
    }
   ],
   "source": [
    "A.T #T for transpose"
   ]
  },
  {
   "cell_type": "code",
   "execution_count": 279,
   "id": "bafa287a",
   "metadata": {},
   "outputs": [],
   "source": [
    "import numpy.linalg as la #import linear algebra"
   ]
  },
  {
   "cell_type": "code",
   "execution_count": 281,
   "id": "9da080b4",
   "metadata": {},
   "outputs": [
    {
     "data": {
      "text/plain": [
       "array([[-12.37093714,   8.0760372 ,   4.71259655],\n",
       "       [  2.17598342,  -0.26349377,  -1.04828172],\n",
       "       [  0.61873854,  -1.31919211,   1.20949956]])"
      ]
     },
     "execution_count": 281,
     "metadata": {},
     "output_type": "execute_result"
    }
   ],
   "source": [
    "la.inv(np.random.rand(3,3))"
   ]
  },
  {
   "cell_type": "code",
   "execution_count": 282,
   "id": "b417bd6b",
   "metadata": {},
   "outputs": [
    {
     "data": {
      "text/plain": [
       "array([[ 8.,  1.,  3.,  2.],\n",
       "       [ 7.,  7.,  2.,  1.],\n",
       "       [ 6.,  8.,  1.,  7.],\n",
       "       [ 2.,  6.,  6., 10.],\n",
       "       [ 8.,  3.,  6.,  5.]])"
      ]
     },
     "execution_count": 282,
     "metadata": {},
     "output_type": "execute_result"
    }
   ],
   "source": [
    "A"
   ]
  },
  {
   "cell_type": "code",
   "execution_count": 283,
   "id": "53a03e8e",
   "metadata": {},
   "outputs": [],
   "source": [
    "A.sort(axis = 0) # axis = 0 means sort all column individually"
   ]
  },
  {
   "cell_type": "code",
   "execution_count": 284,
   "id": "fa2d462d",
   "metadata": {},
   "outputs": [
    {
     "data": {
      "text/plain": [
       "array([[ 2.,  1.,  1.,  1.],\n",
       "       [ 6.,  3.,  2.,  2.],\n",
       "       [ 7.,  6.,  3.,  5.],\n",
       "       [ 8.,  7.,  6.,  7.],\n",
       "       [ 8.,  8.,  6., 10.]])"
      ]
     },
     "execution_count": 284,
     "metadata": {},
     "output_type": "execute_result"
    }
   ],
   "source": [
    "A"
   ]
  },
  {
   "cell_type": "code",
   "execution_count": 285,
   "id": "13a2e03f",
   "metadata": {},
   "outputs": [],
   "source": [
    "A.sort(axis = 1) #every row will be sorted individually"
   ]
  },
  {
   "cell_type": "code",
   "execution_count": 286,
   "id": "399c3cc6",
   "metadata": {},
   "outputs": [
    {
     "data": {
      "text/plain": [
       "array([[ 1.,  1.,  1.,  2.],\n",
       "       [ 2.,  2.,  3.,  6.],\n",
       "       [ 3.,  5.,  6.,  7.],\n",
       "       [ 6.,  7.,  7.,  8.],\n",
       "       [ 6.,  8.,  8., 10.]])"
      ]
     },
     "execution_count": 286,
     "metadata": {},
     "output_type": "execute_result"
    }
   ],
   "source": [
    "A"
   ]
  },
  {
   "cell_type": "code",
   "execution_count": 289,
   "id": "c6a9ea3b",
   "metadata": {},
   "outputs": [
    {
     "data": {
      "text/plain": [
       "array([[ 2.,  2.,  3.,  6.],\n",
       "       [ 6.,  8.,  8., 10.],\n",
       "       [ 6.,  7.,  7.,  8.]])"
      ]
     },
     "execution_count": 289,
     "metadata": {},
     "output_type": "execute_result"
    }
   ],
   "source": [
    "A[[1,4,3]] #array indexing, element at postion 1,4,and 3"
   ]
  },
  {
   "cell_type": "code",
   "execution_count": 291,
   "id": "d8c00b8b",
   "metadata": {},
   "outputs": [
    {
     "data": {
      "text/plain": [
       "array([[ 1.,  1.,  1.,  2.],\n",
       "       [ 2.,  2.,  3.,  6.],\n",
       "       [ 6.,  8.,  8., 10.]])"
      ]
     },
     "execution_count": 291,
     "metadata": {},
     "output_type": "execute_result"
    }
   ],
   "source": [
    "A[[True,True,False,False,True]]#Boolean masking--> returns just the rows 1, 2 and 5"
   ]
  },
  {
   "cell_type": "markdown",
   "id": "217854d4",
   "metadata": {},
   "source": [
    "#### Boolean masking and index_array type of slicing create a copy by default and not just a view "
   ]
  },
  {
   "cell_type": "code",
   "execution_count": 292,
   "id": "91ae8f1b",
   "metadata": {},
   "outputs": [
    {
     "data": {
      "text/plain": [
       "array([1., 1., 1., 2., 2., 2., 3., 6., 3., 5., 6., 7., 6., 7., 7., 6.])"
      ]
     },
     "execution_count": 292,
     "metadata": {},
     "output_type": "execute_result"
    }
   ],
   "source": [
    "A[A<8]"
   ]
  },
  {
   "cell_type": "code",
   "execution_count": 294,
   "id": "3828fd89",
   "metadata": {},
   "outputs": [
    {
     "ename": "ValueError",
     "evalue": "The truth value of an array with more than one element is ambiguous. Use a.any() or a.all()",
     "output_type": "error",
     "traceback": [
      "\u001b[1;31m---------------------------------------------------------------------------\u001b[0m",
      "\u001b[1;31mValueError\u001b[0m                                Traceback (most recent call last)",
      "\u001b[1;32m<ipython-input-294-b8c758a1e4e0>\u001b[0m in \u001b[0;36m<module>\u001b[1;34m\u001b[0m\n\u001b[1;32m----> 1\u001b[1;33m \u001b[0mA\u001b[0m\u001b[1;33m[\u001b[0m\u001b[0mA\u001b[0m \u001b[1;33m<\u001b[0m \u001b[1;36m8\u001b[0m \u001b[1;32mand\u001b[0m \u001b[0mA\u001b[0m \u001b[1;33m>\u001b[0m \u001b[1;36m4\u001b[0m\u001b[1;33m]\u001b[0m\u001b[1;33m\u001b[0m\u001b[1;33m\u001b[0m\u001b[0m\n\u001b[0m",
      "\u001b[1;31mValueError\u001b[0m: The truth value of an array with more than one element is ambiguous. Use a.any() or a.all()"
     ]
    }
   ],
   "source": [
    "A[A < 8 and A > 4]"
   ]
  },
  {
   "cell_type": "code",
   "execution_count": 295,
   "id": "b3c6716a",
   "metadata": {},
   "outputs": [],
   "source": [
    "A = np.arange(100)"
   ]
  },
  {
   "cell_type": "code",
   "execution_count": 296,
   "id": "ab623d48",
   "metadata": {},
   "outputs": [],
   "source": [
    "B = A[[3,5,6]]"
   ]
  },
  {
   "cell_type": "code",
   "execution_count": 297,
   "id": "e8df40d9",
   "metadata": {},
   "outputs": [
    {
     "data": {
      "text/plain": [
       "array([3, 5, 6])"
      ]
     },
     "execution_count": 297,
     "metadata": {},
     "output_type": "execute_result"
    }
   ],
   "source": [
    "B"
   ]
  },
  {
   "cell_type": "code",
   "execution_count": 298,
   "id": "01a14c02",
   "metadata": {},
   "outputs": [],
   "source": [
    "B[0] = -4"
   ]
  },
  {
   "cell_type": "code",
   "execution_count": 299,
   "id": "24843892",
   "metadata": {},
   "outputs": [
    {
     "data": {
      "text/plain": [
       "array([-4,  5,  6])"
      ]
     },
     "execution_count": 299,
     "metadata": {},
     "output_type": "execute_result"
    }
   ],
   "source": [
    "B"
   ]
  },
  {
   "cell_type": "code",
   "execution_count": 300,
   "id": "8154b9c8",
   "metadata": {},
   "outputs": [
    {
     "data": {
      "text/plain": [
       "array([ 0,  1,  2,  3,  4,  5,  6,  7,  8,  9, 10, 11, 12, 13, 14, 15, 16,\n",
       "       17, 18, 19, 20, 21, 22, 23, 24, 25, 26, 27, 28, 29, 30, 31, 32, 33,\n",
       "       34, 35, 36, 37, 38, 39, 40, 41, 42, 43, 44, 45, 46, 47, 48, 49, 50,\n",
       "       51, 52, 53, 54, 55, 56, 57, 58, 59, 60, 61, 62, 63, 64, 65, 66, 67,\n",
       "       68, 69, 70, 71, 72, 73, 74, 75, 76, 77, 78, 79, 80, 81, 82, 83, 84,\n",
       "       85, 86, 87, 88, 89, 90, 91, 92, 93, 94, 95, 96, 97, 98, 99])"
      ]
     },
     "execution_count": 300,
     "metadata": {},
     "output_type": "execute_result"
    }
   ],
   "source": [
    "A"
   ]
  },
  {
   "cell_type": "code",
   "execution_count": 301,
   "id": "98c8ee3c",
   "metadata": {},
   "outputs": [],
   "source": [
    "B = A[A<40]"
   ]
  },
  {
   "cell_type": "code",
   "execution_count": 302,
   "id": "dd28fe31",
   "metadata": {},
   "outputs": [
    {
     "data": {
      "text/plain": [
       "array([ 0,  1,  2,  3,  4,  5,  6,  7,  8,  9, 10, 11, 12, 13, 14, 15, 16,\n",
       "       17, 18, 19, 20, 21, 22, 23, 24, 25, 26, 27, 28, 29, 30, 31, 32, 33,\n",
       "       34, 35, 36, 37, 38, 39])"
      ]
     },
     "execution_count": 302,
     "metadata": {},
     "output_type": "execute_result"
    }
   ],
   "source": [
    "B"
   ]
  },
  {
   "cell_type": "code",
   "execution_count": 303,
   "id": "91a46be4",
   "metadata": {},
   "outputs": [],
   "source": [
    "B = [(A<40)&(A>30)]"
   ]
  },
  {
   "cell_type": "code",
   "execution_count": 304,
   "id": "48d19d8e",
   "metadata": {},
   "outputs": [
    {
     "data": {
      "text/plain": [
       "[array([False, False, False, False, False, False, False, False, False,\n",
       "        False, False, False, False, False, False, False, False, False,\n",
       "        False, False, False, False, False, False, False, False, False,\n",
       "        False, False, False, False,  True,  True,  True,  True,  True,\n",
       "         True,  True,  True,  True, False, False, False, False, False,\n",
       "        False, False, False, False, False, False, False, False, False,\n",
       "        False, False, False, False, False, False, False, False, False,\n",
       "        False, False, False, False, False, False, False, False, False,\n",
       "        False, False, False, False, False, False, False, False, False,\n",
       "        False, False, False, False, False, False, False, False, False,\n",
       "        False, False, False, False, False, False, False, False, False,\n",
       "        False])]"
      ]
     },
     "execution_count": 304,
     "metadata": {},
     "output_type": "execute_result"
    }
   ],
   "source": [
    "B"
   ]
  },
  {
   "cell_type": "markdown",
   "id": "8feade84",
   "metadata": {},
   "source": [
    "### Broadcasting in Numpy "
   ]
  },
  {
   "cell_type": "code",
   "execution_count": 305,
   "id": "a7902267",
   "metadata": {},
   "outputs": [],
   "source": [
    "#A = A+5 \n",
    "# Assume A = 2x3, then A = A + 5 means Add a 2x5 to the initial value"
   ]
  },
  {
   "cell_type": "markdown",
   "id": "0ff585bb",
   "metadata": {},
   "source": [
    "### Numpy (hstack, vstack, sort(axis = 0))"
   ]
  },
  {
   "cell_type": "code",
   "execution_count": 306,
   "id": "8e0b3339",
   "metadata": {},
   "outputs": [],
   "source": [
    "#np.hstack (concatenated horizontally)\n",
    "#np.vstack(concatenate vertically)\n",
    "#np.sort"
   ]
  },
  {
   "cell_type": "code",
   "execution_count": 308,
   "id": "3cd8edc3",
   "metadata": {},
   "outputs": [],
   "source": [
    "A = np.round(10*np.random.rand(2,3))"
   ]
  },
  {
   "cell_type": "code",
   "execution_count": 309,
   "id": "f503b7a4",
   "metadata": {},
   "outputs": [
    {
     "data": {
      "text/plain": [
       "array([[6., 2., 7.],\n",
       "       [4., 7., 2.]])"
      ]
     },
     "execution_count": 309,
     "metadata": {},
     "output_type": "execute_result"
    }
   ],
   "source": [
    "A"
   ]
  },
  {
   "cell_type": "code",
   "execution_count": 310,
   "id": "02ee2e44",
   "metadata": {},
   "outputs": [
    {
     "data": {
      "text/plain": [
       "array([[ 9.,  5., 10.],\n",
       "       [ 7., 10.,  5.]])"
      ]
     },
     "execution_count": 310,
     "metadata": {},
     "output_type": "execute_result"
    }
   ],
   "source": [
    "A+3"
   ]
  },
  {
   "cell_type": "code",
   "execution_count": 311,
   "id": "cebaeca1",
   "metadata": {},
   "outputs": [
    {
     "data": {
      "text/plain": [
       "array([[6., 2., 7.],\n",
       "       [5., 8., 3.]])"
      ]
     },
     "execution_count": 311,
     "metadata": {},
     "output_type": "execute_result"
    }
   ],
   "source": [
    "A+(np.arange(2).reshape(2,1))"
   ]
  },
  {
   "cell_type": "code",
   "execution_count": 312,
   "id": "5b29f42e",
   "metadata": {},
   "outputs": [],
   "source": [
    "B = np.round(10*np.random.rand(2,2))"
   ]
  },
  {
   "cell_type": "code",
   "execution_count": 313,
   "id": "a8615db2",
   "metadata": {},
   "outputs": [
    {
     "data": {
      "text/plain": [
       "array([[1., 2.],\n",
       "       [1., 7.]])"
      ]
     },
     "execution_count": 313,
     "metadata": {},
     "output_type": "execute_result"
    }
   ],
   "source": [
    "B"
   ]
  },
  {
   "cell_type": "code",
   "execution_count": 314,
   "id": "8932b513",
   "metadata": {},
   "outputs": [],
   "source": [
    "C= np.hstack((A,B))#you have to give it in a tuple"
   ]
  },
  {
   "cell_type": "code",
   "execution_count": 315,
   "id": "cb94062c",
   "metadata": {},
   "outputs": [
    {
     "data": {
      "text/plain": [
       "array([[6., 2., 7., 1., 2.],\n",
       "       [4., 7., 2., 1., 7.]])"
      ]
     },
     "execution_count": 315,
     "metadata": {},
     "output_type": "execute_result"
    }
   ],
   "source": [
    "C"
   ]
  },
  {
   "cell_type": "code",
   "execution_count": 316,
   "id": "4c5f8d91",
   "metadata": {},
   "outputs": [],
   "source": [
    "A = np.random.permutation(np.arange(10))"
   ]
  },
  {
   "cell_type": "code",
   "execution_count": 317,
   "id": "d4339ced",
   "metadata": {},
   "outputs": [
    {
     "data": {
      "text/plain": [
       "array([0, 9, 4, 2, 7, 6, 5, 8, 3, 1])"
      ]
     },
     "execution_count": 317,
     "metadata": {},
     "output_type": "execute_result"
    }
   ],
   "source": [
    "A"
   ]
  },
  {
   "cell_type": "code",
   "execution_count": 318,
   "id": "cdcc45b0",
   "metadata": {},
   "outputs": [],
   "source": [
    "A.sort()"
   ]
  },
  {
   "cell_type": "code",
   "execution_count": 319,
   "id": "e18315d9",
   "metadata": {},
   "outputs": [
    {
     "data": {
      "text/plain": [
       "array([0, 1, 2, 3, 4, 5, 6, 7, 8, 9])"
      ]
     },
     "execution_count": 319,
     "metadata": {},
     "output_type": "execute_result"
    }
   ],
   "source": [
    "A"
   ]
  },
  {
   "cell_type": "code",
   "execution_count": 320,
   "id": "db84be70",
   "metadata": {},
   "outputs": [
    {
     "data": {
      "text/plain": [
       "array([0, 1, 2, 3, 4, 5, 6, 7, 8, 9])"
      ]
     },
     "execution_count": 320,
     "metadata": {},
     "output_type": "execute_result"
    }
   ],
   "source": [
    "np.sort(A)"
   ]
  },
  {
   "cell_type": "code",
   "execution_count": 321,
   "id": "87850cc9",
   "metadata": {},
   "outputs": [],
   "source": [
    "A.sort()"
   ]
  },
  {
   "cell_type": "code",
   "execution_count": 322,
   "id": "e77b1878",
   "metadata": {},
   "outputs": [],
   "source": [
    "A = A[::-1] #sorting in descending order"
   ]
  },
  {
   "cell_type": "code",
   "execution_count": 323,
   "id": "65d7d741",
   "metadata": {},
   "outputs": [
    {
     "data": {
      "text/plain": [
       "array([9, 8, 7, 6, 5, 4, 3, 2, 1, 0])"
      ]
     },
     "execution_count": 323,
     "metadata": {},
     "output_type": "execute_result"
    }
   ],
   "source": [
    "A"
   ]
  },
  {
   "cell_type": "code",
   "execution_count": 324,
   "id": "7b1657fa",
   "metadata": {},
   "outputs": [],
   "source": [
    "A = np.array([\"abc\", \"howareyou\", \"u767\"])"
   ]
  },
  {
   "cell_type": "code",
   "execution_count": 325,
   "id": "adc6c4d5",
   "metadata": {},
   "outputs": [],
   "source": [
    "A.sort()"
   ]
  },
  {
   "cell_type": "code",
   "execution_count": 326,
   "id": "d6d93b4f",
   "metadata": {},
   "outputs": [
    {
     "data": {
      "text/plain": [
       "array(['abc', 'howareyou', 'u767'], dtype='<U9')"
      ]
     },
     "execution_count": 326,
     "metadata": {},
     "output_type": "execute_result"
    }
   ],
   "source": [
    "A"
   ]
  },
  {
   "cell_type": "code",
   "execution_count": 327,
   "id": "244c1138",
   "metadata": {
    "scrolled": true
   },
   "outputs": [
    {
     "name": "stdout",
     "output_type": "stream",
     "text": [
      "84.2 ms ± 5.21 ms per loop (mean ± std. dev. of 7 runs, 10 loops each)\n",
      "1.09 ms ± 59.2 µs per loop (mean ± std. dev. of 7 runs, 1000 loops each)\n"
     ]
    }
   ],
   "source": [
    "b = np.random.rand(1000000)\n",
    "%timeit sum(b)\n",
    "%timeit np.sum(b)"
   ]
  },
  {
   "cell_type": "code",
   "execution_count": 328,
   "id": "5dded492",
   "metadata": {},
   "outputs": [],
   "source": [
    "def mySum(G):\n",
    "    s = 0\n",
    "    for x in G:\n",
    "        s+= x\n",
    "    return s"
   ]
  },
  {
   "cell_type": "code",
   "execution_count": 329,
   "id": "ac8dfe9f",
   "metadata": {},
   "outputs": [
    {
     "name": "stdout",
     "output_type": "stream",
     "text": [
      "123 ms ± 2.56 ms per loop (mean ± std. dev. of 7 runs, 10 loops each)\n"
     ]
    }
   ],
   "source": [
    "%timeit mySum(b)"
   ]
  },
  {
   "cell_type": "markdown",
   "id": "b4075d02",
   "metadata": {},
   "source": [
    "### Pandas"
   ]
  },
  {
   "cell_type": "code",
   "execution_count": 330,
   "id": "840ef27c",
   "metadata": {},
   "outputs": [],
   "source": [
    "import pandas as pd"
   ]
  },
  {
   "cell_type": "code",
   "execution_count": 331,
   "id": "cce809b8",
   "metadata": {},
   "outputs": [
    {
     "name": "stdout",
     "output_type": "stream",
     "text": [
      "1.2.4\n"
     ]
    }
   ],
   "source": [
    "print(pd.__version__)"
   ]
  },
  {
   "cell_type": "code",
   "execution_count": 332,
   "id": "59cc0ac8",
   "metadata": {},
   "outputs": [],
   "source": [
    "A = pd.Series([2,3,4,5], index =['a','b','c','d'])"
   ]
  },
  {
   "cell_type": "code",
   "execution_count": 333,
   "id": "aca423ed",
   "metadata": {},
   "outputs": [
    {
     "data": {
      "text/plain": [
       "array([2, 3, 4, 5], dtype=int64)"
      ]
     },
     "execution_count": 333,
     "metadata": {},
     "output_type": "execute_result"
    }
   ],
   "source": [
    "A.values"
   ]
  },
  {
   "cell_type": "code",
   "execution_count": 334,
   "id": "0be018ee",
   "metadata": {},
   "outputs": [
    {
     "data": {
      "text/plain": [
       "Index(['a', 'b', 'c', 'd'], dtype='object')"
      ]
     },
     "execution_count": 334,
     "metadata": {},
     "output_type": "execute_result"
    }
   ],
   "source": [
    "A.index"
   ]
  },
  {
   "cell_type": "code",
   "execution_count": 335,
   "id": "6063af05",
   "metadata": {},
   "outputs": [
    {
     "data": {
      "text/plain": [
       "numpy.ndarray"
      ]
     },
     "execution_count": 335,
     "metadata": {},
     "output_type": "execute_result"
    }
   ],
   "source": [
    "type(A.values)"
   ]
  },
  {
   "cell_type": "code",
   "execution_count": 336,
   "id": "a8d2cee2",
   "metadata": {},
   "outputs": [
    {
     "data": {
      "text/plain": [
       "pandas.core.series.Series"
      ]
     },
     "execution_count": 336,
     "metadata": {},
     "output_type": "execute_result"
    }
   ],
   "source": [
    "type(A)"
   ]
  },
  {
   "cell_type": "code",
   "execution_count": 337,
   "id": "eb955211",
   "metadata": {},
   "outputs": [
    {
     "data": {
      "text/plain": [
       "2"
      ]
     },
     "execution_count": 337,
     "metadata": {},
     "output_type": "execute_result"
    }
   ],
   "source": [
    "A['a']"
   ]
  },
  {
   "cell_type": "code",
   "execution_count": 338,
   "id": "b10474d1",
   "metadata": {},
   "outputs": [
    {
     "data": {
      "text/plain": [
       "a    2\n",
       "b    3\n",
       "c    4\n",
       "dtype: int64"
      ]
     },
     "execution_count": 338,
     "metadata": {},
     "output_type": "execute_result"
    }
   ],
   "source": [
    "A['a':'c']"
   ]
  },
  {
   "cell_type": "code",
   "execution_count": 339,
   "id": "ded1f200",
   "metadata": {},
   "outputs": [],
   "source": [
    "grades_dict={'A':4, 'B':3.6, 'C':3, 'D':2.5}\n",
    "grades = pd.Series(grades_dict)"
   ]
  },
  {
   "cell_type": "code",
   "execution_count": 340,
   "id": "3472dfe9",
   "metadata": {},
   "outputs": [
    {
     "data": {
      "text/plain": [
       "A    4.0\n",
       "B    3.6\n",
       "C    3.0\n",
       "D    2.5\n",
       "dtype: float64"
      ]
     },
     "execution_count": 340,
     "metadata": {},
     "output_type": "execute_result"
    }
   ],
   "source": [
    "grades"
   ]
  },
  {
   "cell_type": "code",
   "execution_count": 341,
   "id": "37e08c9d",
   "metadata": {},
   "outputs": [
    {
     "data": {
      "text/plain": [
       "array([4. , 3.6, 3. , 2.5])"
      ]
     },
     "execution_count": 341,
     "metadata": {},
     "output_type": "execute_result"
    }
   ],
   "source": [
    "grades.values"
   ]
  },
  {
   "cell_type": "code",
   "execution_count": 342,
   "id": "0ec8d081",
   "metadata": {},
   "outputs": [
    {
     "data": {
      "text/plain": [
       "Index(['A', 'B', 'C', 'D'], dtype='object')"
      ]
     },
     "execution_count": 342,
     "metadata": {},
     "output_type": "execute_result"
    }
   ],
   "source": [
    "grades.index"
   ]
  },
  {
   "cell_type": "code",
   "execution_count": 343,
   "id": "124323d9",
   "metadata": {},
   "outputs": [],
   "source": [
    "marks_dict={'A':85, 'B':75, 'C':65, 'D':55}\n",
    "marks = pd.Series(marks_dict)"
   ]
  },
  {
   "cell_type": "code",
   "execution_count": 344,
   "id": "68dc9c21",
   "metadata": {},
   "outputs": [
    {
     "data": {
      "text/plain": [
       "A    85\n",
       "B    75\n",
       "C    65\n",
       "D    55\n",
       "dtype: int64"
      ]
     },
     "execution_count": 344,
     "metadata": {},
     "output_type": "execute_result"
    }
   ],
   "source": [
    "marks"
   ]
  },
  {
   "cell_type": "code",
   "execution_count": 346,
   "id": "1e99fec9",
   "metadata": {},
   "outputs": [
    {
     "data": {
      "text/plain": [
       "array([85, 75, 65, 55], dtype=int64)"
      ]
     },
     "execution_count": 346,
     "metadata": {},
     "output_type": "execute_result"
    }
   ],
   "source": [
    "marks.values"
   ]
  },
  {
   "cell_type": "code",
   "execution_count": 347,
   "id": "639afac1",
   "metadata": {},
   "outputs": [
    {
     "data": {
      "text/plain": [
       "Index(['A', 'B', 'C', 'D'], dtype='object')"
      ]
     },
     "execution_count": 347,
     "metadata": {},
     "output_type": "execute_result"
    }
   ],
   "source": [
    "marks.index"
   ]
  },
  {
   "cell_type": "code",
   "execution_count": 348,
   "id": "700d79fa",
   "metadata": {},
   "outputs": [
    {
     "data": {
      "text/plain": [
       "85"
      ]
     },
     "execution_count": 348,
     "metadata": {},
     "output_type": "execute_result"
    }
   ],
   "source": [
    "marks['A']"
   ]
  },
  {
   "cell_type": "code",
   "execution_count": 349,
   "id": "57e6ff15",
   "metadata": {},
   "outputs": [
    {
     "data": {
      "text/plain": [
       "A    85\n",
       "B    75\n",
       "dtype: int64"
      ]
     },
     "execution_count": 349,
     "metadata": {},
     "output_type": "execute_result"
    }
   ],
   "source": [
    "marks[0:2]"
   ]
  },
  {
   "cell_type": "code",
   "execution_count": 350,
   "id": "99626648",
   "metadata": {},
   "outputs": [
    {
     "data": {
      "text/plain": [
       "A    85\n",
       "B    75\n",
       "C    65\n",
       "D    55\n",
       "dtype: int64"
      ]
     },
     "execution_count": 350,
     "metadata": {},
     "output_type": "execute_result"
    }
   ],
   "source": [
    "marks"
   ]
  },
  {
   "cell_type": "code",
   "execution_count": 351,
   "id": "ef8c4ba4",
   "metadata": {},
   "outputs": [
    {
     "data": {
      "text/plain": [
       "A    4.0\n",
       "B    3.6\n",
       "C    3.0\n",
       "D    2.5\n",
       "dtype: float64"
      ]
     },
     "execution_count": 351,
     "metadata": {},
     "output_type": "execute_result"
    }
   ],
   "source": [
    "grades\n"
   ]
  },
  {
   "cell_type": "code",
   "execution_count": 352,
   "id": "46e8ce44",
   "metadata": {},
   "outputs": [],
   "source": [
    "data = pd.DataFrame({'Marks': marks, 'Grades': grades})"
   ]
  },
  {
   "cell_type": "code",
   "execution_count": 353,
   "id": "0e48a9ce",
   "metadata": {},
   "outputs": [
    {
     "data": {
      "text/html": [
       "<div>\n",
       "<style scoped>\n",
       "    .dataframe tbody tr th:only-of-type {\n",
       "        vertical-align: middle;\n",
       "    }\n",
       "\n",
       "    .dataframe tbody tr th {\n",
       "        vertical-align: top;\n",
       "    }\n",
       "\n",
       "    .dataframe thead th {\n",
       "        text-align: right;\n",
       "    }\n",
       "</style>\n",
       "<table border=\"1\" class=\"dataframe\">\n",
       "  <thead>\n",
       "    <tr style=\"text-align: right;\">\n",
       "      <th></th>\n",
       "      <th>Marks</th>\n",
       "      <th>Grades</th>\n",
       "    </tr>\n",
       "  </thead>\n",
       "  <tbody>\n",
       "    <tr>\n",
       "      <th>A</th>\n",
       "      <td>85</td>\n",
       "      <td>4.0</td>\n",
       "    </tr>\n",
       "    <tr>\n",
       "      <th>B</th>\n",
       "      <td>75</td>\n",
       "      <td>3.6</td>\n",
       "    </tr>\n",
       "    <tr>\n",
       "      <th>C</th>\n",
       "      <td>65</td>\n",
       "      <td>3.0</td>\n",
       "    </tr>\n",
       "    <tr>\n",
       "      <th>D</th>\n",
       "      <td>55</td>\n",
       "      <td>2.5</td>\n",
       "    </tr>\n",
       "  </tbody>\n",
       "</table>\n",
       "</div>"
      ],
      "text/plain": [
       "   Marks  Grades\n",
       "A     85     4.0\n",
       "B     75     3.6\n",
       "C     65     3.0\n",
       "D     55     2.5"
      ]
     },
     "execution_count": 353,
     "metadata": {},
     "output_type": "execute_result"
    }
   ],
   "source": [
    "data"
   ]
  },
  {
   "cell_type": "code",
   "execution_count": 355,
   "id": "54131f54",
   "metadata": {},
   "outputs": [
    {
     "data": {
      "text/html": [
       "<div>\n",
       "<style scoped>\n",
       "    .dataframe tbody tr th:only-of-type {\n",
       "        vertical-align: middle;\n",
       "    }\n",
       "\n",
       "    .dataframe tbody tr th {\n",
       "        vertical-align: top;\n",
       "    }\n",
       "\n",
       "    .dataframe thead th {\n",
       "        text-align: right;\n",
       "    }\n",
       "</style>\n",
       "<table border=\"1\" class=\"dataframe\">\n",
       "  <thead>\n",
       "    <tr style=\"text-align: right;\">\n",
       "      <th></th>\n",
       "      <th>A</th>\n",
       "      <th>B</th>\n",
       "      <th>C</th>\n",
       "      <th>D</th>\n",
       "    </tr>\n",
       "  </thead>\n",
       "  <tbody>\n",
       "    <tr>\n",
       "      <th>Marks</th>\n",
       "      <td>85.0</td>\n",
       "      <td>75.0</td>\n",
       "      <td>65.0</td>\n",
       "      <td>55.0</td>\n",
       "    </tr>\n",
       "    <tr>\n",
       "      <th>Grades</th>\n",
       "      <td>4.0</td>\n",
       "      <td>3.6</td>\n",
       "      <td>3.0</td>\n",
       "      <td>2.5</td>\n",
       "    </tr>\n",
       "  </tbody>\n",
       "</table>\n",
       "</div>"
      ],
      "text/plain": [
       "           A     B     C     D\n",
       "Marks   85.0  75.0  65.0  55.0\n",
       "Grades   4.0   3.6   3.0   2.5"
      ]
     },
     "execution_count": 355,
     "metadata": {},
     "output_type": "execute_result"
    }
   ],
   "source": [
    "data.T #transposing the Dataframe"
   ]
  },
  {
   "cell_type": "code",
   "execution_count": null,
   "id": "8ac077cc",
   "metadata": {},
   "outputs": [],
   "source": []
  }
 ],
 "metadata": {
  "kernelspec": {
   "display_name": "Python 3",
   "language": "python",
   "name": "python3"
  },
  "language_info": {
   "codemirror_mode": {
    "name": "ipython",
    "version": 3
   },
   "file_extension": ".py",
   "mimetype": "text/x-python",
   "name": "python",
   "nbconvert_exporter": "python",
   "pygments_lexer": "ipython3",
   "version": "3.8.8"
  }
 },
 "nbformat": 4,
 "nbformat_minor": 5
}
